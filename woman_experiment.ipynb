{
 "cells": [
  {
   "cell_type": "code",
   "execution_count": 1,
   "metadata": {},
   "outputs": [],
   "source": [
    "import wikipedia, requests, random, pycm, json, pandas as pd, matplotlib.pyplot as plt, seaborn as sns\n",
    "from tqdm import tqdm\n",
    "from IPython.display import display, Markdown\n",
    "from classification_procedure import ClassificationProcedure"
   ]
  },
  {
   "cell_type": "markdown",
   "metadata": {},
   "source": [
    "## Classification procedures"
   ]
  },
  {
   "cell_type": "code",
   "execution_count": 2,
   "metadata": {},
   "outputs": [],
   "source": [
    "oed_woman = ClassificationProcedure(\n",
    "    \"OED\",\n",
    "    \"woman\", \n",
    "    \"\"\"An adult female human being. The counterpart of man (see man, n.¹ II.4.)\"\"\",\n",
    "    \"https://www.oed.com/dictionary/woman_n\"\n",
    ")\n",
    "\n",
    "haslanger_woman = ClassificationProcedure(\n",
    "    \"Haslanger\",\n",
    "    \"woman\", \n",
    "    \"\"\"S is a woman iff (i) S is regularly and for the most part observed or imagined to have \n",
    "certain bodily features presumed to be evidence of a female’s biological role in reproduction; \n",
    "(ii) that S has these features marks S within the dominant ideology of S’s society as someone who \n",
    "ought to occupy certain kinds of social position that are in fact subordinate (and so motivates \n",
    "and justifies S’s occupying such a position); and (iii) the fact that S satisfies (I) and (ii) plays \n",
    "a role in S’s systematic subordination, that is, along some dimension, S’s social position is oppressive, \n",
    "and S’s satisfying (i) and (ii) plays a role in that dimension of subordination\"\"\",\n",
    "    \"https://www.jstor.org/stable/2671972\"\n",
    ")\n",
    "\n",
    "homosaurus_women = ClassificationProcedure(\n",
    "    \"Homosaurus\",\n",
    "    \"woman\", \n",
    "    \"\"\"Adults who self-identify as women and understand their gender in terms of \n",
    "Western conceptions of womanness, femaleness, and/or femininity. The term has typically \n",
    "been defined as adult female humans, though not all women identify with the term 'female' \n",
    "depending on the context in which it is used.\"\"\",\n",
    "    \"https://homosaurus.org/v3/homoit0001509\"\n",
    ")"
   ]
  },
  {
   "cell_type": "markdown",
   "metadata": {},
   "source": [
    "## Wikidata queries"
   ]
  },
  {
   "cell_type": "code",
   "execution_count": 3,
   "metadata": {},
   "outputs": [],
   "source": [
    "KNOWLEDGE_GRAPH = \"https://query.wikidata.org/sparql\"\n",
    "\n",
    "QUERY_HEADERS = {\n",
    "    'User-Agent': 'ConceptualEngineeringAgent/0.2 (https://github.com/bradleypallen/conceptual-engineering-using-llms; b.p.allen@uva.nl)',\n",
    "}\n",
    "\n",
    "SAMPLE_SIZE = 50\n",
    "\n",
    "POSITIVE_EXAMPLES_QUERY = \"\"\"SELECT DISTINCT ?entity ?name ?article WHERE {\n",
    "  {\n",
    "    ?entity wdt:P21 wd:Q6581072 .\n",
    "    ?article schema:about ?entity ;\n",
    "            schema:inLanguage \"en\" ;\n",
    "            schema:isPartOf <https://en.wikipedia.org/> ;\n",
    "            schema:name ?name .\n",
    "    wd:Q6581072 rdfs:label ?gender .\n",
    "    FILTER (lang(?gender) = \"en\")\n",
    "  }\n",
    "  UNION\n",
    "  {\n",
    "    ?entity wdt:P21 wd:Q1052281 .\n",
    "    ?article schema:about ?entity ;\n",
    "           schema:inLanguage \"en\" ;\n",
    "           schema:isPartOf <https://en.wikipedia.org/> ;\n",
    "           schema:name ?name .\n",
    "    wd:Q1052281 rdfs:label ?gender .\n",
    "    FILTER (lang(?gender) = \"en\")\n",
    "  }\n",
    "} LIMIT 10000\"\"\"\n",
    "\n",
    "NEGATIVE_EXAMPLES_QUERY = \"\"\"SELECT DISTINCT ?entity ?name ?article WHERE {\n",
    "  {\n",
    "    ?entity wdt:P21 wd:Q6581097 .\n",
    "    ?article schema:about ?entity ;\n",
    "            schema:inLanguage \"en\" ;\n",
    "            schema:isPartOf <https://en.wikipedia.org/> ;\n",
    "            schema:name ?name .\n",
    "    wd:Q6581097 rdfs:label ?gender .\n",
    "    FILTER (lang(?gender) = \"en\")\n",
    "  }\n",
    "  UNION\n",
    "  {\n",
    "    ?entity wdt:P21 wd:Q48270 .\n",
    "    ?article schema:about ?entity ;\n",
    "           schema:inLanguage \"en\" ;\n",
    "           schema:isPartOf <https://en.wikipedia.org/> ;\n",
    "           schema:name ?name .\n",
    "    wd:Q48270 rdfs:label ?gender .\n",
    "    FILTER (lang(?gender) = \"en\")\n",
    "  }\n",
    "  UNION\n",
    "  {\n",
    "    ?entity wdt:P21 wd:Q2449503 .\n",
    "    ?article schema:about ?entity ;\n",
    "           schema:inLanguage \"en\" ;\n",
    "           schema:isPartOf <https://en.wikipedia.org/> ;\n",
    "           schema:name ?name .\n",
    "    wd:Q2449503 rdfs:label ?gender .\n",
    "    FILTER (lang(?gender) = \"en\")\n",
    " }\n",
    "} LIMIT 10000\"\"\""
   ]
  },
  {
   "cell_type": "markdown",
   "metadata": {},
   "source": [
    "## Example entities"
   ]
  },
  {
   "cell_type": "code",
   "execution_count": 4,
   "metadata": {},
   "outputs": [],
   "source": [
    "response = requests.get(KNOWLEDGE_GRAPH, params={'query' : POSITIVE_EXAMPLES_QUERY, 'format' : 'json'}, headers=QUERY_HEADERS)\n",
    "response.raise_for_status()\n",
    "json_response = response.json()\n",
    "records = [ [ result[\"entity\"][\"value\"], result[\"name\"][\"value\"], result[\"article\"][\"value\"] ] for result in json_response[\"results\"][\"bindings\"] ]\n",
    "records = random.sample(records, SAMPLE_SIZE)\n",
    "positive_examples = pd.DataFrame.from_records(records, columns=[\"id\", \"name\", \"article\"])\n",
    "positive_examples[\"description\"] = positive_examples[\"name\"].apply(lambda name: wikipedia.summary(name, auto_suggest=False).replace('\"', r'\\\"').strip()) \n",
    "positive_examples[\"actual\"] = \"positive\""
   ]
  },
  {
   "cell_type": "code",
   "execution_count": 5,
   "metadata": {},
   "outputs": [],
   "source": [
    "response = requests.get(KNOWLEDGE_GRAPH, params={'query' : NEGATIVE_EXAMPLES_QUERY, 'format' : 'json'}, headers=QUERY_HEADERS)\n",
    "response.raise_for_status()\n",
    "json_response = response.json()\n",
    "records = [ [ result[\"entity\"][\"value\"], result[\"name\"][\"value\"], result[\"article\"][\"value\"] ] for result in json_response[\"results\"][\"bindings\"] ]\n",
    "records = random.sample(records, SAMPLE_SIZE)\n",
    "negative_examples = pd.DataFrame.from_records(records, columns=[\"id\", \"name\", \"article\"])\n",
    "negative_examples[\"description\"] = negative_examples[\"name\"].apply(lambda name: wikipedia.summary(name, auto_suggest=False).replace('\"', r'\\\"').strip()) \n",
    "negative_examples[\"actual\"] = \"negative\""
   ]
  },
  {
   "cell_type": "code",
   "execution_count": 6,
   "metadata": {},
   "outputs": [
    {
     "data": {
      "text/html": [
       "<div>\n",
       "<style scoped>\n",
       "    .dataframe tbody tr th:only-of-type {\n",
       "        vertical-align: middle;\n",
       "    }\n",
       "\n",
       "    .dataframe tbody tr th {\n",
       "        vertical-align: top;\n",
       "    }\n",
       "\n",
       "    .dataframe thead th {\n",
       "        text-align: right;\n",
       "    }\n",
       "</style>\n",
       "<table border=\"1\" class=\"dataframe\">\n",
       "  <thead>\n",
       "    <tr style=\"text-align: right;\">\n",
       "      <th></th>\n",
       "      <th>id</th>\n",
       "      <th>name</th>\n",
       "      <th>article</th>\n",
       "      <th>description</th>\n",
       "      <th>actual</th>\n",
       "    </tr>\n",
       "  </thead>\n",
       "  <tbody>\n",
       "    <tr>\n",
       "      <th>0</th>\n",
       "      <td>http://www.wikidata.org/entity/Q78364</td>\n",
       "      <td>Sigrid Onégin</td>\n",
       "      <td>https://en.wikipedia.org/wiki/Sigrid_On%C3%A9gin</td>\n",
       "      <td>Sigrid Onégin (June 1, 1889 – June 16, 1943) w...</td>\n",
       "      <td>positive</td>\n",
       "    </tr>\n",
       "    <tr>\n",
       "      <th>1</th>\n",
       "      <td>http://www.wikidata.org/entity/Q214617</td>\n",
       "      <td>Hagar</td>\n",
       "      <td>https://en.wikipedia.org/wiki/Hagar</td>\n",
       "      <td>According to the Book of Genesis, Hagar was an...</td>\n",
       "      <td>positive</td>\n",
       "    </tr>\n",
       "    <tr>\n",
       "      <th>2</th>\n",
       "      <td>http://www.wikidata.org/entity/Q100206</td>\n",
       "      <td>Mechtildis of Edelstetten</td>\n",
       "      <td>https://en.wikipedia.org/wiki/Mechtildis_of_Ed...</td>\n",
       "      <td>Mechtildis of Edelstetten, also known as Mecht...</td>\n",
       "      <td>positive</td>\n",
       "    </tr>\n",
       "    <tr>\n",
       "      <th>3</th>\n",
       "      <td>http://www.wikidata.org/entity/Q77765</td>\n",
       "      <td>Juliane Werding</td>\n",
       "      <td>https://en.wikipedia.org/wiki/Juliane_Werding</td>\n",
       "      <td>Juliane Werding (born 19 July 1956 in Essen) i...</td>\n",
       "      <td>positive</td>\n",
       "    </tr>\n",
       "    <tr>\n",
       "      <th>4</th>\n",
       "      <td>http://www.wikidata.org/entity/Q111188</td>\n",
       "      <td>Hannah Vogt</td>\n",
       "      <td>https://en.wikipedia.org/wiki/Hannah_Vogt</td>\n",
       "      <td>Hannah Vogt (3 March 1910, Berlin – 13 Februar...</td>\n",
       "      <td>positive</td>\n",
       "    </tr>\n",
       "    <tr>\n",
       "      <th>...</th>\n",
       "      <td>...</td>\n",
       "      <td>...</td>\n",
       "      <td>...</td>\n",
       "      <td>...</td>\n",
       "      <td>...</td>\n",
       "    </tr>\n",
       "    <tr>\n",
       "      <th>95</th>\n",
       "      <td>http://www.wikidata.org/entity/Q29664</td>\n",
       "      <td>Narendra Karmarkar</td>\n",
       "      <td>https://en.wikipedia.org/wiki/Narendra_Karmarkar</td>\n",
       "      <td>Narendra Krishna Karmarkar (born circa 1956) i...</td>\n",
       "      <td>negative</td>\n",
       "    </tr>\n",
       "    <tr>\n",
       "      <th>96</th>\n",
       "      <td>http://www.wikidata.org/entity/Q23437</td>\n",
       "      <td>William Hirstein</td>\n",
       "      <td>https://en.wikipedia.org/wiki/William_Hirstein</td>\n",
       "      <td>William Hirstein is an American philosopher pr...</td>\n",
       "      <td>negative</td>\n",
       "    </tr>\n",
       "    <tr>\n",
       "      <th>97</th>\n",
       "      <td>http://www.wikidata.org/entity/Q6013</td>\n",
       "      <td>James Heneghan</td>\n",
       "      <td>https://en.wikipedia.org/wiki/James_Heneghan</td>\n",
       "      <td>James Heneghan (7 October 1930 – 23 April 2021...</td>\n",
       "      <td>negative</td>\n",
       "    </tr>\n",
       "    <tr>\n",
       "      <th>98</th>\n",
       "      <td>http://www.wikidata.org/entity/Q43067</td>\n",
       "      <td>Heinrich Himmler</td>\n",
       "      <td>https://en.wikipedia.org/wiki/Heinrich_Himmler</td>\n",
       "      <td>Heinrich Luitpold Himmler (German: [ˈhaɪnʁɪç ˈ...</td>\n",
       "      <td>negative</td>\n",
       "    </tr>\n",
       "    <tr>\n",
       "      <th>99</th>\n",
       "      <td>http://www.wikidata.org/entity/Q48771</td>\n",
       "      <td>Samuel Mohilever</td>\n",
       "      <td>https://en.wikipedia.org/wiki/Samuel_Mohilever</td>\n",
       "      <td>Samuel Mohilever (1824 – 1898), also Shmuel Mo...</td>\n",
       "      <td>negative</td>\n",
       "    </tr>\n",
       "  </tbody>\n",
       "</table>\n",
       "<p>100 rows × 5 columns</p>\n",
       "</div>"
      ],
      "text/plain": [
       "                                        id                       name  \\\n",
       "0    http://www.wikidata.org/entity/Q78364              Sigrid Onégin   \n",
       "1   http://www.wikidata.org/entity/Q214617                      Hagar   \n",
       "2   http://www.wikidata.org/entity/Q100206  Mechtildis of Edelstetten   \n",
       "3    http://www.wikidata.org/entity/Q77765            Juliane Werding   \n",
       "4   http://www.wikidata.org/entity/Q111188                Hannah Vogt   \n",
       "..                                     ...                        ...   \n",
       "95   http://www.wikidata.org/entity/Q29664         Narendra Karmarkar   \n",
       "96   http://www.wikidata.org/entity/Q23437           William Hirstein   \n",
       "97    http://www.wikidata.org/entity/Q6013             James Heneghan   \n",
       "98   http://www.wikidata.org/entity/Q43067           Heinrich Himmler   \n",
       "99   http://www.wikidata.org/entity/Q48771           Samuel Mohilever   \n",
       "\n",
       "                                              article  \\\n",
       "0    https://en.wikipedia.org/wiki/Sigrid_On%C3%A9gin   \n",
       "1                 https://en.wikipedia.org/wiki/Hagar   \n",
       "2   https://en.wikipedia.org/wiki/Mechtildis_of_Ed...   \n",
       "3       https://en.wikipedia.org/wiki/Juliane_Werding   \n",
       "4           https://en.wikipedia.org/wiki/Hannah_Vogt   \n",
       "..                                                ...   \n",
       "95   https://en.wikipedia.org/wiki/Narendra_Karmarkar   \n",
       "96     https://en.wikipedia.org/wiki/William_Hirstein   \n",
       "97       https://en.wikipedia.org/wiki/James_Heneghan   \n",
       "98     https://en.wikipedia.org/wiki/Heinrich_Himmler   \n",
       "99     https://en.wikipedia.org/wiki/Samuel_Mohilever   \n",
       "\n",
       "                                          description    actual  \n",
       "0   Sigrid Onégin (June 1, 1889 – June 16, 1943) w...  positive  \n",
       "1   According to the Book of Genesis, Hagar was an...  positive  \n",
       "2   Mechtildis of Edelstetten, also known as Mecht...  positive  \n",
       "3   Juliane Werding (born 19 July 1956 in Essen) i...  positive  \n",
       "4   Hannah Vogt (3 March 1910, Berlin – 13 Februar...  positive  \n",
       "..                                                ...       ...  \n",
       "95  Narendra Krishna Karmarkar (born circa 1956) i...  negative  \n",
       "96  William Hirstein is an American philosopher pr...  negative  \n",
       "97  James Heneghan (7 October 1930 – 23 April 2021...  negative  \n",
       "98  Heinrich Luitpold Himmler (German: [ˈhaɪnʁɪç ˈ...  negative  \n",
       "99  Samuel Mohilever (1824 – 1898), also Shmuel Mo...  negative  \n",
       "\n",
       "[100 rows x 5 columns]"
      ]
     },
     "execution_count": 6,
     "metadata": {},
     "output_type": "execute_result"
    }
   ],
   "source": [
    "examples = pd.concat([positive_examples, negative_examples], ignore_index=True)\n",
    "examples"
   ]
  },
  {
   "cell_type": "markdown",
   "metadata": {},
   "source": [
    "## Experiments"
   ]
  },
  {
   "cell_type": "code",
   "execution_count": 7,
   "metadata": {},
   "outputs": [],
   "source": [
    "def run_experiment(cp, examples):\n",
    "    classifications = examples.to_dict(\"records\")\n",
    "    for entity in tqdm(classifications):\n",
    "        classification = cp.classify(entity[\"name\"], entity[\"description\"])\n",
    "        entity[\"rationale\"] = classification[\"rationale\"]\n",
    "        entity[\"predicted\"] = classification[\"answer\"]\n",
    "    return pd.DataFrame.from_records(classifications)"
   ]
  },
  {
   "cell_type": "code",
   "execution_count": 9,
   "metadata": {},
   "outputs": [
    {
     "name": "stderr",
     "output_type": "stream",
     "text": [
      "100%|██████████| 100/100 [09:14<00:00,  5.54s/it]\n"
     ]
    }
   ],
   "source": [
    "oed_woman_results = run_experiment(oed_woman, examples)"
   ]
  },
  {
   "cell_type": "code",
   "execution_count": 10,
   "metadata": {},
   "outputs": [
    {
     "name": "stderr",
     "output_type": "stream",
     "text": [
      "100%|██████████| 100/100 [15:54<00:00,  9.54s/it]\n"
     ]
    }
   ],
   "source": [
    "haslanger_woman_results = run_experiment(haslanger_woman, examples)"
   ]
  },
  {
   "cell_type": "code",
   "execution_count": 11,
   "metadata": {},
   "outputs": [
    {
     "name": "stderr",
     "output_type": "stream",
     "text": [
      "100%|██████████| 100/100 [11:06<00:00,  6.67s/it]\n"
     ]
    }
   ],
   "source": [
    "homosaurus_women_results = run_experiment(homosaurus_women, examples)"
   ]
  },
  {
   "cell_type": "markdown",
   "metadata": {},
   "source": [
    "## Performance metrics"
   ]
  },
  {
   "cell_type": "code",
   "execution_count": 12,
   "metadata": {},
   "outputs": [],
   "source": [
    "oed_woman_cm = pycm.ConfusionMatrix(\n",
    "    oed_woman_results[\"actual\"].tolist(), \n",
    "    oed_woman_results[\"predicted\"].tolist(), \n",
    "    digit=2, \n",
    "    classes=[ 'positive', 'negative' ]\n",
    ")\n",
    "\n",
    "haslanger_woman_cm = pycm.ConfusionMatrix(\n",
    "    haslanger_woman_results[\"actual\"].tolist(), \n",
    "    haslanger_woman_results[\"predicted\"].tolist(), \n",
    "    digit=2, \n",
    "    classes=[ 'positive', 'negative' ]\n",
    ")\n",
    "\n",
    "homosaurus_women_cm = pycm.ConfusionMatrix(\n",
    "    homosaurus_women_results[\"actual\"].tolist(), \n",
    "    homosaurus_women_results[\"predicted\"].tolist(), \n",
    "    digit=2, \n",
    "    classes=[ 'positive', 'negative' ]\n",
    ")"
   ]
  },
  {
   "cell_type": "code",
   "execution_count": 13,
   "metadata": {},
   "outputs": [],
   "source": [
    "cms = [\n",
    "    (f'{oed_woman.term} ({oed_woman.id})', oed_woman_cm),\n",
    "    (f'{haslanger_woman.term} ({haslanger_woman.id})', haslanger_woman_cm),\n",
    "    (f'{homosaurus_women.term} ({homosaurus_women.id})', homosaurus_women_cm)\n",
    "]"
   ]
  },
  {
   "cell_type": "code",
   "execution_count": 14,
   "metadata": {},
   "outputs": [
    {
     "data": {
      "image/png": "[encoded data removed]",
      "text/plain": [
       "<Figure size 2000x1400 with 23 Axes>"
      ]
     },
     "metadata": {},
     "output_type": "display_data"
    }
   ],
   "source": [
    "fig = plt.figure(figsize=(20,14))\n",
    "gs = fig.add_gridspec(4, 5, hspace=0.5)\n",
    "axes = gs.subplots()\n",
    "for ax, (name, cm) in zip(axes.flat, cms):\n",
    "    df = pd.DataFrame(cm.matrix).T.fillna(0)\n",
    "    sns.heatmap(df, annot=True, fmt='d', cmap=\"YlGnBu\", ax=ax)\n",
    "    ax.set_title(name, wrap=True, fontsize=9)\n",
    "    ax.set(xlabel='classification\\nprocedure', ylabel='Wikidata')\n",
    "for ax in axes.flat[len(cms):]:\n",
    "    ax.set_visible(False)\n",
    "plt.show()"
   ]
  },
  {
   "cell_type": "code",
   "execution_count": 15,
   "metadata": {},
   "outputs": [
    {
     "data": {
      "text/html": [
       "<div>\n",
       "<style scoped>\n",
       "    .dataframe tbody tr th:only-of-type {\n",
       "        vertical-align: middle;\n",
       "    }\n",
       "\n",
       "    .dataframe tbody tr th {\n",
       "        vertical-align: top;\n",
       "    }\n",
       "\n",
       "    .dataframe thead th {\n",
       "        text-align: right;\n",
       "    }\n",
       "</style>\n",
       "<table border=\"1\" class=\"dataframe\">\n",
       "  <thead>\n",
       "    <tr style=\"text-align: right;\">\n",
       "      <th></th>\n",
       "      <th>classification procedure</th>\n",
       "      <th>Cohen's kappa</th>\n",
       "      <th>F1 macro</th>\n",
       "      <th>FN</th>\n",
       "      <th>FP</th>\n",
       "    </tr>\n",
       "  </thead>\n",
       "  <tbody>\n",
       "    <tr>\n",
       "      <th>2</th>\n",
       "      <td>woman (Homosaurus)</td>\n",
       "      <td>0.96</td>\n",
       "      <td>0.979992</td>\n",
       "      <td>0</td>\n",
       "      <td>2</td>\n",
       "    </tr>\n",
       "    <tr>\n",
       "      <th>1</th>\n",
       "      <td>woman (Haslanger)</td>\n",
       "      <td>0.94</td>\n",
       "      <td>0.969997</td>\n",
       "      <td>2</td>\n",
       "      <td>1</td>\n",
       "    </tr>\n",
       "    <tr>\n",
       "      <th>0</th>\n",
       "      <td>woman (OED)</td>\n",
       "      <td>0.92</td>\n",
       "      <td>0.960000</td>\n",
       "      <td>2</td>\n",
       "      <td>2</td>\n",
       "    </tr>\n",
       "  </tbody>\n",
       "</table>\n",
       "</div>"
      ],
      "text/plain": [
       "  classification procedure  Cohen's kappa  F1 macro  FN  FP\n",
       "2       woman (Homosaurus)           0.96  0.979992   0   2\n",
       "1        woman (Haslanger)           0.94  0.969997   2   1\n",
       "0              woman (OED)           0.92  0.960000   2   2"
      ]
     },
     "execution_count": 15,
     "metadata": {},
     "output_type": "execute_result"
    }
   ],
   "source": [
    "metrics = pd.DataFrame.from_records([ \n",
    "    { \"classification procedure\": cm[0], \"Cohen's kappa\": cm[1].Kappa, \"F1 macro\": cm[1].F1_Macro, \"FN\": cm[1].FN[\"positive\"], \"FP\": cm[1].FP[\"positive\"] }\n",
    "    for cm in cms \n",
    "])\n",
    "metrics.sort_values(by=\"Cohen's kappa\", ascending=False)"
   ]
  },
  {
   "cell_type": "markdown",
   "metadata": {},
   "source": [
    "## Error analyses"
   ]
  },
  {
   "cell_type": "code",
   "execution_count": 16,
   "metadata": {},
   "outputs": [],
   "source": [
    "def display_errors(cp, results):\n",
    "    display(Markdown(f'### {cp.term} ({cp.id})'))\n",
    "    display(Markdown(f'#### Definition'))\n",
    "    display(Markdown(f'{cp.definition}'))\n",
    "    fns = results[((results[\"actual\"] == 'positive') & (results[\"predicted\"] == 'negative'))][[\"name\", \"description\", \"rationale\"]]\n",
    "    if len(fns) > 0:\n",
    "        fns_styler = fns.style.set_properties(**{\"text-align\": \"left\", \"vertical-align\" : \"top\", \"overflow-wrap\": \"break-word\"}).hide(axis=\"index\")\n",
    "        display(Markdown(f'#### False negatives'))\n",
    "        display(fns_styler)\n",
    "    fps = results[((results[\"actual\"] == 'negative') & (results[\"predicted\"] == 'positive'))][[\"name\", \"description\", \"rationale\"]]\n",
    "    if len(fps) > 0:\n",
    "        fps_styler = fps.style.set_properties(**{\"text-align\": \"left\", \"vertical-align\" : \"top\", \"overflow-wrap\": \"break-word\"}).hide(axis=\"index\")\n",
    "        display(Markdown(f'#### False positives'))\n",
    "        display(fps_styler)\n"
   ]
  },
  {
   "cell_type": "code",
   "execution_count": 17,
   "metadata": {},
   "outputs": [
    {
     "data": {
      "text/markdown": [
       "### woman (OED)"
      ],
      "text/plain": [
       "<IPython.core.display.Markdown object>"
      ]
     },
     "metadata": {},
     "output_type": "display_data"
    },
    {
     "data": {
      "text/markdown": [
       "#### Definition"
      ],
      "text/plain": [
       "<IPython.core.display.Markdown object>"
      ]
     },
     "metadata": {},
     "output_type": "display_data"
    },
    {
     "data": {
      "text/markdown": [
       "An adult female human being. The counterpart of man (see man, n.¹ II.4.)"
      ],
      "text/plain": [
       "<IPython.core.display.Markdown object>"
      ]
     },
     "metadata": {},
     "output_type": "display_data"
    },
    {
     "data": {
      "text/markdown": [
       "#### False negatives"
      ],
      "text/plain": [
       "<IPython.core.display.Markdown object>"
      ]
     },
     "metadata": {},
     "output_type": "display_data"
    },
    {
     "data": {
      "text/html": [
       "<style type=\"text/css\">\n",
       "#T_09c9a_row0_col0, #T_09c9a_row0_col1, #T_09c9a_row0_col2, #T_09c9a_row1_col0, #T_09c9a_row1_col1, #T_09c9a_row1_col2 {\n",
       "  text-align: left;\n",
       "  vertical-align: top;\n",
       "  overflow-wrap: break-word;\n",
       "}\n",
       "</style>\n",
       "<table id=\"T_09c9a\">\n",
       "  <thead>\n",
       "    <tr>\n",
       "      <th id=\"T_09c9a_level0_col0\" class=\"col_heading level0 col0\" >name</th>\n",
       "      <th id=\"T_09c9a_level0_col1\" class=\"col_heading level0 col1\" >description</th>\n",
       "      <th id=\"T_09c9a_level0_col2\" class=\"col_heading level0 col2\" >rationale</th>\n",
       "    </tr>\n",
       "  </thead>\n",
       "  <tbody>\n",
       "    <tr>\n",
       "      <td id=\"T_09c9a_row0_col0\" class=\"data row0 col0\" >Nemesis</td>\n",
       "      <td id=\"T_09c9a_row0_col1\" class=\"data row0 col1\" >In ancient Greek religion, Nemesis, also called Rhamnousia or Rhamnusia (Ancient Greek: Ῥαμνουσία, romanized: Rhamnousía, lit. 'the goddess of Rhamnous'), was the goddess who personifies retribution for the sin of hubris: arrogance before the gods.</td>\n",
       "      <td id=\"T_09c9a_row0_col2\" class=\"data row0 col2\" >Nemesis is described as a goddess in ancient Greek religion. A goddess is a female deity, and since deities are often anthropomorphized or given human characteristics, it can be inferred that Nemesis, being a goddess, is a female. According to the provided definition, a woman is an adult female human being. Therefore, if we consider goddesses as female entities with human characteristics, it can be argued that Nemesis is a woman.</td>\n",
       "    </tr>\n",
       "    <tr>\n",
       "      <td id=\"T_09c9a_row1_col0\" class=\"data row1 col0\" >Brianna Ghey</td>\n",
       "      <td id=\"T_09c9a_row1_col1\" class=\"data row1 col1\" >On 11 February 2023, Brianna Ghey ( JY), a 16-year-old British transgender girl from Birchwood in Warrington, Cheshire, England, was killed in Culcheth Linear Park in Culcheth, Warrington. Two accused teenagers, both aged 15, are in police custody, having been charged with murder four days after the incident. A motive has not been established and police are investigating \\\"all lines of inquiry\\\", including investigating the killing as a possible hate crime.</td>\n",
       "      <td id=\"T_09c9a_row1_col2\" class=\"data row1 col2\" >Brianna Ghey is identified as a \"transgender girl\" in the description. The term \"transgender\" refers to individuals whose gender identity differs from the sex they were assigned at birth. In this case, Brianna Ghey, though biologically assigned a different sex at birth, identifies as a female. The concept of a woman, as defined above, refers to an \"adult female human being.\" While Brianna Ghey is not an adult, she is a female human being by virtue of her gender identity. Therefore, it can be argued that Brianna Ghey is a woman, albeit a young one, based on her self-identified gender.</td>\n",
       "    </tr>\n",
       "  </tbody>\n",
       "</table>\n"
      ],
      "text/plain": [
       "<pandas.io.formats.style.Styler at 0x131452250>"
      ]
     },
     "metadata": {},
     "output_type": "display_data"
    },
    {
     "data": {
      "text/markdown": [
       "#### False positives"
      ],
      "text/plain": [
       "<IPython.core.display.Markdown object>"
      ]
     },
     "metadata": {},
     "output_type": "display_data"
    },
    {
     "data": {
      "text/html": [
       "<style type=\"text/css\">\n",
       "#T_dfee2_row0_col0, #T_dfee2_row0_col1, #T_dfee2_row0_col2, #T_dfee2_row1_col0, #T_dfee2_row1_col1, #T_dfee2_row1_col2 {\n",
       "  text-align: left;\n",
       "  vertical-align: top;\n",
       "  overflow-wrap: break-word;\n",
       "}\n",
       "</style>\n",
       "<table id=\"T_dfee2\">\n",
       "  <thead>\n",
       "    <tr>\n",
       "      <th id=\"T_dfee2_level0_col0\" class=\"col_heading level0 col0\" >name</th>\n",
       "      <th id=\"T_dfee2_level0_col1\" class=\"col_heading level0 col1\" >description</th>\n",
       "      <th id=\"T_dfee2_level0_col2\" class=\"col_heading level0 col2\" >rationale</th>\n",
       "    </tr>\n",
       "  </thead>\n",
       "  <tbody>\n",
       "    <tr>\n",
       "      <td id=\"T_dfee2_row0_col0\" class=\"data row0 col0\" >Michelle Rojas</td>\n",
       "      <td id=\"T_dfee2_row0_col1\" class=\"data row0 col1\" >Michelle  Rojas (née Pennington; born December 16, 1987) is an American voice actress from Dallas, Texas. Affiliated with Funimation and Bang Zoom! Entertainment, some of her major roles are Tohka Yatogami in Date A Live, Zuikaku in Azur Lane, Kanade Sakurada in Castle Town Dandelion, Mikoto Sakuragawa in Gonna be the Twin-Tail!!, Kō Yagami in New Game!, Nashiro Yasuhisa in Tokyo Ghoul, Maya Sato in Classroom of the Elite, Toka Yada in Assassination Classroom, Shion in That Time I Got Reincarnated as a Slime, Roxy Migurdia in Mushoku Tensei: Jobless Reincarnation, and Yamato in One Piece.</td>\n",
       "      <td id=\"T_dfee2_row0_col2\" class=\"data row0 col2\" >The definition provided states that a woman is an adult female human being. The description of Michelle Rojas identifies her as a female, as indicated by the use of female pronouns. Additionally, her birth date is given as December 16, 1987, which makes her an adult. Therefore, based on the definition provided, Michelle Rojas can be classified as a woman.</td>\n",
       "    </tr>\n",
       "    <tr>\n",
       "      <td id=\"T_dfee2_row1_col0\" class=\"data row1 col0\" >Linden A. Lewis</td>\n",
       "      <td id=\"T_dfee2_row1_col1\" class=\"data row1 col1\" >Linden A. Lewis is a science fiction author, best known for their debut novel The First Sister. Lewis is queer and uses she/they pronouns.</td>\n",
       "      <td id=\"T_dfee2_row1_col2\" class=\"data row1 col2\" >The definition provided for \"woman\" is an adult female human being. Linden A. Lewis is identified with the use of she/they pronouns, which suggests that Lewis identifies, at least in part, as female. As Lewis is an adult human being, and part of their identity aligns with being female, it can be argued, based on the given definition, that Linden A. Lewis is a woman.</td>\n",
       "    </tr>\n",
       "  </tbody>\n",
       "</table>\n"
      ],
      "text/plain": [
       "<pandas.io.formats.style.Styler at 0x178ff6c10>"
      ]
     },
     "metadata": {},
     "output_type": "display_data"
    }
   ],
   "source": [
    "display_errors(oed_woman, oed_woman_results)"
   ]
  },
  {
   "cell_type": "code",
   "execution_count": 18,
   "metadata": {},
   "outputs": [
    {
     "data": {
      "text/markdown": [
       "### woman (Haslanger)"
      ],
      "text/plain": [
       "<IPython.core.display.Markdown object>"
      ]
     },
     "metadata": {},
     "output_type": "display_data"
    },
    {
     "data": {
      "text/markdown": [
       "#### Definition"
      ],
      "text/plain": [
       "<IPython.core.display.Markdown object>"
      ]
     },
     "metadata": {},
     "output_type": "display_data"
    },
    {
     "data": {
      "text/markdown": [
       "S is a woman iff (i) S is regularly and for the most part observed or imagined to have \n",
       "certain bodily features presumed to be evidence of a female’s biological role in reproduction; \n",
       "(ii) that S has these features marks S within the dominant ideology of S’s society as someone who \n",
       "ought to occupy certain kinds of social position that are in fact subordinate (and so motivates \n",
       "and justifies S’s occupying such a position); and (iii) the fact that S satisfies (I) and (ii) plays \n",
       "a role in S’s systematic subordination, that is, along some dimension, S’s social position is oppressive, \n",
       "and S’s satisfying (i) and (ii) plays a role in that dimension of subordination"
      ],
      "text/plain": [
       "<IPython.core.display.Markdown object>"
      ]
     },
     "metadata": {},
     "output_type": "display_data"
    },
    {
     "data": {
      "text/markdown": [
       "#### False negatives"
      ],
      "text/plain": [
       "<IPython.core.display.Markdown object>"
      ]
     },
     "metadata": {},
     "output_type": "display_data"
    },
    {
     "data": {
      "text/html": [
       "<style type=\"text/css\">\n",
       "#T_a1e07_row0_col0, #T_a1e07_row0_col1, #T_a1e07_row0_col2, #T_a1e07_row1_col0, #T_a1e07_row1_col1, #T_a1e07_row1_col2 {\n",
       "  text-align: left;\n",
       "  vertical-align: top;\n",
       "  overflow-wrap: break-word;\n",
       "}\n",
       "</style>\n",
       "<table id=\"T_a1e07\">\n",
       "  <thead>\n",
       "    <tr>\n",
       "      <th id=\"T_a1e07_level0_col0\" class=\"col_heading level0 col0\" >name</th>\n",
       "      <th id=\"T_a1e07_level0_col1\" class=\"col_heading level0 col1\" >description</th>\n",
       "      <th id=\"T_a1e07_level0_col2\" class=\"col_heading level0 col2\" >rationale</th>\n",
       "    </tr>\n",
       "  </thead>\n",
       "  <tbody>\n",
       "    <tr>\n",
       "      <td id=\"T_a1e07_row0_col0\" class=\"data row0 col0\" >Waltraud Klasnic</td>\n",
       "      <td id=\"T_a1e07_row0_col1\" class=\"data row0 col1\" >Waltraud Klasnic (née Tschiltsch, born 27 October 1945) is an Austrian politician who was Landeshauptfrau (governor) of Styria from 1996 until 2005.</td>\n",
       "      <td id=\"T_a1e07_row0_col2\" class=\"data row0 col2\" >The definition of a woman provided includes three main criteria: (i) having certain bodily features associated with the female biological role in reproduction, (ii) being marked within the dominant ideology of one's society as someone who should occupy certain subordinate social positions, and (iii) the fact that satisfying (i) and (ii) contributes to one's systematic subordination. \n",
       "\n",
       "In the case of Waltraud Klasnic, while the description does not explicitly state her biological features or her societal role, it does mention that she is an Austrian politician who served as the governor of Styria. This implies that she is recognized and accepted in a significant societal role, which suggests that she likely satisfies criteria (ii). \n",
       "\n",
       "However, the description does not provide enough information to definitively assert that Waltraud Klasnic satisfies all the criteria in the definition of a woman. For instance, it does not provide information about her biological features or whether she experiences systematic subordination due to her gender. Therefore, based solely on the provided definition and description, we cannot conclusively argue that Waltraud Klasnic is a woman.</td>\n",
       "    </tr>\n",
       "    <tr>\n",
       "      <td id=\"T_a1e07_row1_col0\" class=\"data row1 col0\" >Michaela Kirchgasser</td>\n",
       "      <td id=\"T_a1e07_row1_col1\" class=\"data row1 col1\" >Michaela Kirchgasser (born 18 March 1985) is a retired Austrian alpine ski racer. She raced in the technical events of slalom and giant slalom, and also the combined.</td>\n",
       "      <td id=\"T_a1e07_row1_col2\" class=\"data row1 col2\" >The description of Michaela Kirchgasser does not provide any direct information about her bodily features or her social position in society. However, it does mention that she is referred to with the female pronoun \"she\", which suggests that she is observed or imagined to have certain bodily features presumed to be evidence of a female’s biological role in reproduction. This satisfies condition (i) of the definition. \n",
       "\n",
       "The description does not provide information about the dominant ideology of her society or her social position, so we cannot determine whether she satisfies condition (ii). \n",
       "\n",
       "Similarly, the description does not provide information about any systematic subordination or oppression she might face, so we cannot determine whether she satisfies condition (iii). \n",
       "\n",
       "Therefore, based on the limited information provided, we can only partially argue that Michaela Kirchgasser is a woman according to the given definition. More information would be needed to fully satisfy all conditions of the definition.</td>\n",
       "    </tr>\n",
       "  </tbody>\n",
       "</table>\n"
      ],
      "text/plain": [
       "<pandas.io.formats.style.Styler at 0x13068f810>"
      ]
     },
     "metadata": {},
     "output_type": "display_data"
    },
    {
     "data": {
      "text/markdown": [
       "#### False positives"
      ],
      "text/plain": [
       "<IPython.core.display.Markdown object>"
      ]
     },
     "metadata": {},
     "output_type": "display_data"
    },
    {
     "data": {
      "text/html": [
       "<style type=\"text/css\">\n",
       "#T_72c61_row0_col0, #T_72c61_row0_col1, #T_72c61_row0_col2 {\n",
       "  text-align: left;\n",
       "  vertical-align: top;\n",
       "  overflow-wrap: break-word;\n",
       "}\n",
       "</style>\n",
       "<table id=\"T_72c61\">\n",
       "  <thead>\n",
       "    <tr>\n",
       "      <th id=\"T_72c61_level0_col0\" class=\"col_heading level0 col0\" >name</th>\n",
       "      <th id=\"T_72c61_level0_col1\" class=\"col_heading level0 col1\" >description</th>\n",
       "      <th id=\"T_72c61_level0_col2\" class=\"col_heading level0 col2\" >rationale</th>\n",
       "    </tr>\n",
       "  </thead>\n",
       "  <tbody>\n",
       "    <tr>\n",
       "      <td id=\"T_72c61_row0_col0\" class=\"data row0 col0\" >Michelle Rojas</td>\n",
       "      <td id=\"T_72c61_row0_col1\" class=\"data row0 col1\" >Michelle  Rojas (née Pennington; born December 16, 1987) is an American voice actress from Dallas, Texas. Affiliated with Funimation and Bang Zoom! Entertainment, some of her major roles are Tohka Yatogami in Date A Live, Zuikaku in Azur Lane, Kanade Sakurada in Castle Town Dandelion, Mikoto Sakuragawa in Gonna be the Twin-Tail!!, Kō Yagami in New Game!, Nashiro Yasuhisa in Tokyo Ghoul, Maya Sato in Classroom of the Elite, Toka Yada in Assassination Classroom, Shion in That Time I Got Reincarnated as a Slime, Roxy Migurdia in Mushoku Tensei: Jobless Reincarnation, and Yamato in One Piece.</td>\n",
       "      <td id=\"T_72c61_row0_col2\" class=\"data row0 col2\" >Based on the provided definition, we can infer that Michelle Rojas is a woman. The definition states that a woman is someone who is observed or imagined to have certain bodily features associated with the female biological role in reproduction. While the description does not explicitly state that Michelle Rojas has these features, it is implied by the use of female pronouns and her traditionally female first name. \n",
       "\n",
       "The definition also states that a woman is someone who, within the dominant ideology of their society, is expected to occupy certain social positions that are subordinate. While the description does not provide specific information about Michelle Rojas's social position, it is reasonable to infer that as a woman in American society, she may face certain societal expectations and potential subordination due to her gender.\n",
       "\n",
       "Lastly, the definition states that a woman is someone whose social position is oppressive along some dimension, and that their satisfying the first two conditions plays a role in this subordination. Again, while the description does not provide specific information about any oppression Michelle Rojas may face, it is reasonable to infer that as a woman in American society, she may face systemic gender-based oppression.\n",
       "\n",
       "Therefore, based on the provided definition and the information in the description, it is reasonable to assert that Michelle Rojas is a woman.</td>\n",
       "    </tr>\n",
       "  </tbody>\n",
       "</table>\n"
      ],
      "text/plain": [
       "<pandas.io.formats.style.Styler at 0x284924550>"
      ]
     },
     "metadata": {},
     "output_type": "display_data"
    }
   ],
   "source": [
    "display_errors(haslanger_woman, haslanger_woman_results)"
   ]
  },
  {
   "cell_type": "code",
   "execution_count": 19,
   "metadata": {},
   "outputs": [
    {
     "data": {
      "text/markdown": [
       "### woman (Homosaurus)"
      ],
      "text/plain": [
       "<IPython.core.display.Markdown object>"
      ]
     },
     "metadata": {},
     "output_type": "display_data"
    },
    {
     "data": {
      "text/markdown": [
       "#### Definition"
      ],
      "text/plain": [
       "<IPython.core.display.Markdown object>"
      ]
     },
     "metadata": {},
     "output_type": "display_data"
    },
    {
     "data": {
      "text/markdown": [
       "Adults who self-identify as women and understand their gender in terms of \n",
       "Western conceptions of womanness, femaleness, and/or femininity. The term has typically \n",
       "been defined as adult female humans, though not all women identify with the term 'female' \n",
       "depending on the context in which it is used."
      ],
      "text/plain": [
       "<IPython.core.display.Markdown object>"
      ]
     },
     "metadata": {},
     "output_type": "display_data"
    },
    {
     "data": {
      "text/markdown": [
       "#### False positives"
      ],
      "text/plain": [
       "<IPython.core.display.Markdown object>"
      ]
     },
     "metadata": {},
     "output_type": "display_data"
    },
    {
     "data": {
      "text/html": [
       "<style type=\"text/css\">\n",
       "#T_d13aa_row0_col0, #T_d13aa_row0_col1, #T_d13aa_row0_col2, #T_d13aa_row1_col0, #T_d13aa_row1_col1, #T_d13aa_row1_col2 {\n",
       "  text-align: left;\n",
       "  vertical-align: top;\n",
       "  overflow-wrap: break-word;\n",
       "}\n",
       "</style>\n",
       "<table id=\"T_d13aa\">\n",
       "  <thead>\n",
       "    <tr>\n",
       "      <th id=\"T_d13aa_level0_col0\" class=\"col_heading level0 col0\" >name</th>\n",
       "      <th id=\"T_d13aa_level0_col1\" class=\"col_heading level0 col1\" >description</th>\n",
       "      <th id=\"T_d13aa_level0_col2\" class=\"col_heading level0 col2\" >rationale</th>\n",
       "    </tr>\n",
       "  </thead>\n",
       "  <tbody>\n",
       "    <tr>\n",
       "      <td id=\"T_d13aa_row0_col0\" class=\"data row0 col0\" >Michelle Rojas</td>\n",
       "      <td id=\"T_d13aa_row0_col1\" class=\"data row0 col1\" >Michelle  Rojas (née Pennington; born December 16, 1987) is an American voice actress from Dallas, Texas. Affiliated with Funimation and Bang Zoom! Entertainment, some of her major roles are Tohka Yatogami in Date A Live, Zuikaku in Azur Lane, Kanade Sakurada in Castle Town Dandelion, Mikoto Sakuragawa in Gonna be the Twin-Tail!!, Kō Yagami in New Game!, Nashiro Yasuhisa in Tokyo Ghoul, Maya Sato in Classroom of the Elite, Toka Yada in Assassination Classroom, Shion in That Time I Got Reincarnated as a Slime, Roxy Migurdia in Mushoku Tensei: Jobless Reincarnation, and Yamato in One Piece.</td>\n",
       "      <td id=\"T_d13aa_row0_col2\" class=\"data row0 col2\" >The description of Michelle Rojas does not explicitly state her gender identity. However, it does use female pronouns (\"her\") to refer to her, which typically aligns with a self-identification as a woman. Furthermore, she has taken on roles that are typically associated with women, such as female characters in various shows. Therefore, based on the information provided and the definition of a woman, it can be argued that Michelle Rojas is a woman.</td>\n",
       "    </tr>\n",
       "    <tr>\n",
       "      <td id=\"T_d13aa_row1_col0\" class=\"data row1 col0\" >Linden A. Lewis</td>\n",
       "      <td id=\"T_d13aa_row1_col1\" class=\"data row1 col1\" >Linden A. Lewis is a science fiction author, best known for their debut novel The First Sister. Lewis is queer and uses she/they pronouns.</td>\n",
       "      <td id=\"T_d13aa_row1_col2\" class=\"data row1 col2\" >The definition of a woman includes adults who self-identify as women. Linden A. Lewis uses she/they pronouns, which indicates that they may identify as a woman. Therefore, based on the provided definition, it can be argued that Linden A. Lewis is a woman.</td>\n",
       "    </tr>\n",
       "  </tbody>\n",
       "</table>\n"
      ],
      "text/plain": [
       "<pandas.io.formats.style.Styler at 0x13066da50>"
      ]
     },
     "metadata": {},
     "output_type": "display_data"
    }
   ],
   "source": [
    "display_errors(homosaurus_women, homosaurus_women_results)"
   ]
  },
  {
   "cell_type": "markdown",
   "metadata": {},
   "source": [
    "## Experimental results data dump"
   ]
  },
  {
   "cell_type": "code",
   "execution_count": 20,
   "metadata": {},
   "outputs": [],
   "source": [
    "EXPERIMENTS_FILENAME = \"woman_experiment.json\"\n",
    "\n",
    "experiments = [\n",
    "    {\n",
    "        \"classification_procedure\": {\n",
    "            \"id\": cp.id,\n",
    "            \"term\": cp.term,\n",
    "            \"definition\": cp.definition,\n",
    "            \"reference\": cp.reference,\n",
    "            \"model_name\": cp.model_name,\n",
    "            \"temperature\": cp.temperature\n",
    "        },\n",
    "        \"results\": results.to_dict(\"records\")\n",
    "    } for cp, results in [\n",
    "        (oed_woman, oed_woman_results),\n",
    "        (haslanger_woman, haslanger_woman_results),\n",
    "        (homosaurus_women, homosaurus_women_results)\n",
    "    ]\n",
    "]\n",
    "\n",
    "json.dump(experiments, open(EXPERIMENTS_FILENAME, 'w+'))"
   ]
  }
 ],
 "metadata": {
  "kernelspec": {
   "display_name": "conceptual-engineering-using-llms",
   "language": "python",
   "name": "python3"
  },
  "language_info": {
   "codemirror_mode": {
    "name": "ipython",
    "version": 3
   },
   "file_extension": ".py",
   "mimetype": "text/x-python",
   "name": "python",
   "nbconvert_exporter": "python",
   "pygments_lexer": "ipython3",
   "version": "3.11.4"
  },
  "orig_nbformat": 4
 },
 "nbformat": 4,
 "nbformat_minor": 2
}
