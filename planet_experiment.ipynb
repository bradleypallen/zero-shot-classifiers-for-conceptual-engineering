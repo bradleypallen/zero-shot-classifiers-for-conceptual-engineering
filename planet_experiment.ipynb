{
 "cells": [
  {
   "cell_type": "code",
   "execution_count": 1,
   "metadata": {},
   "outputs": [],
   "source": [
    "import wikipedia, requests, random, pycm, json, pandas as pd, matplotlib.pyplot as plt, seaborn as sns\n",
    "from tqdm import tqdm\n",
    "from IPython.display import display, Markdown\n",
    "from classification_procedure import ClassificationProcedure"
   ]
  },
  {
   "cell_type": "markdown",
   "metadata": {},
   "source": [
    "## Classification procedures"
   ]
  },
  {
   "cell_type": "code",
   "execution_count": 2,
   "metadata": {},
   "outputs": [],
   "source": [
    "oed_planet = ClassificationProcedure(\n",
    "    \"OED\",\n",
    "    \"planet\", \n",
    "    \"\"\"Any of various rocky or gaseous bodies that revolve in approximately elliptical orbits \n",
    "around the sun and are visible by its reflected light; esp. each of the planets Mercury, Venus, \n",
    "Earth, Mars, Jupiter, Saturn, Uranus, Neptune, and (until 2006) Pluto (in order of increasing \n",
    "distance from the sun); a similar body revolving around another star. Also: any of various \n",
    "smaller bodies that revolve around these (cf. satellite n. 2a).\"\"\",\n",
    "    \"https://www.oed.com/dictionary/planet_n\"\n",
    ")\n",
    "\n",
    "iau_2006_8_16_planet = ClassificationProcedure(\n",
    "    \"IAU 2006-08-16\",\n",
    "    \"planet\", \n",
    "    \"\"\"A planet is a celestial body that (a) has sufficient mass for its self-gravity to \n",
    "overcome rigid body forces so that it assumes a hydrostatic equilibrium (nearly round) shape, \n",
    "and (b) is in orbit around a star, and is neither a star nor a satellite of a planet.\"\"\",\n",
    "    \"https://www.iau.org/news/pressreleases/detail/iau0601/\"\n",
    ")\n",
    "\n",
    "iau_2006_8_24_planet = ClassificationProcedure(\n",
    "    \"IAU 2006-08-24\",\n",
    "    \"planet\", \n",
    "    \"\"\"A planet [1] is a celestial body that (a) is in orbit around the Sun, (b) has sufficient \n",
    "mass for its self-gravity to overcome rigid body forces so that it assumes a hydrostatic \n",
    "equilibrium (nearly round) shape, and (c) has cleared the neighbourhood around its orbit.\"\"\",\n",
    "    \"https://www.iau.org/static/resolutions/Resolution_GA26-5-6.pdf\"\n",
    ")"
   ]
  },
  {
   "cell_type": "markdown",
   "metadata": {},
   "source": [
    "### Example in Figure 1"
   ]
  },
  {
   "cell_type": "code",
   "execution_count": 3,
   "metadata": {},
   "outputs": [
    {
     "data": {
      "text/plain": [
       "{'concept': 'planet',\n",
       " 'definition': 'A planet [1] is a celestial body that (a) is in orbit around the Sun, (b) has sufficient \\nmass for its self-gravity to overcome rigid body forces so that it assumes a hydrostatic \\nequilibrium (nearly round) shape, and (c) has cleared the neighbourhood around its orbit.',\n",
       " 'entity': 'DENIS-P J082303.1−491201 b',\n",
       " 'description': 'DENIS-P J082303.1-491201 b (alias 2MASS J08230313-4912012 b) is a substellar object, classified as either an exoplanet or a brown dwarf, orbiting DENIS-P J082303.1-491201, an L1.5-type brown dwarf in the constellation Vela.',\n",
       " 'rationale': \"The description of DENIS-P J082303.1−491201 b indicates that it is a celestial body that is in orbit around DENIS-P J082303.1-491201, which is similar to the first criterion of the definition of a planet that it should be in orbit around the Sun. Although it's not orbiting the Sun, it's orbiting a brown dwarf, which is a type of star. This could be considered analogous to orbiting the Sun. \\n\\nThe description also classifies DENIS-P J082303.1−491201 b as a substellar object, which implies that it has sufficient mass for its self-gravity to overcome rigid body forces so that it assumes a hydrostatic equilibrium (nearly round) shape, meeting the second criterion of the definition of a planet.\\n\\nHowever, the description does not provide information about whether DENIS-P J082303.1−491201 b has cleared the neighbourhood around its orbit, which is the third criterion of the definition of a planet. \\n\\nTherefore, based on the provided information and definition, an argument can be made that DENIS-P J082303.1−491201 b could potentially be considered a planet, but more information would be needed to confirm this.\",\n",
       " 'answer': 'negative'}"
      ]
     },
     "execution_count": 3,
     "metadata": {},
     "output_type": "execute_result"
    }
   ],
   "source": [
    "iau_2006_8_24_planet.classify(\"DENIS-P J082303.1−491201 b\", \"DENIS-P J082303.1-491201 b (alias 2MASS J08230313-4912012 b) is a substellar object, classified as either an exoplanet or a brown dwarf, orbiting DENIS-P J082303.1-491201, an L1.5-type brown dwarf in the constellation Vela.\")"
   ]
  },
  {
   "cell_type": "markdown",
   "metadata": {},
   "source": [
    "## Wikidata queries"
   ]
  },
  {
   "cell_type": "code",
   "execution_count": 4,
   "metadata": {},
   "outputs": [],
   "source": [
    "KNOWLEDGE_GRAPH = \"https://query.wikidata.org/sparql\"\n",
    "\n",
    "QUERY_HEADERS = {\n",
    "    'User-Agent': 'ConceptualEngineeringAgent/0.2 (https://github.com/bradleypallen/conceptual-engineering-using-llms; b.p.allen@uva.nl)',\n",
    "}\n",
    "\n",
    "SAMPLE_SIZE = 50\n",
    "\n",
    "POSITIVE_EXAMPLES_QUERY = \"\"\"SELECT DISTINCT ?entity ?name ?article WHERE {\n",
    "  {\n",
    "    ?entity p:P31/ps:P31/wdt:P279* wd:Q634 .\n",
    "    ?article schema:about ?entity ;\n",
    "            schema:inLanguage \"en\" ;\n",
    "            schema:isPartOf <https://en.wikipedia.org/> ;\n",
    "            schema:name ?name .\n",
    "  }\n",
    "} LIMIT 10000\"\"\"\n",
    "\n",
    "NEGATIVE_EXAMPLES_QUERY = \"\"\"SELECT DISTINCT ?entity ?name ?article WHERE {\n",
    "  {\n",
    "    ?entity p:P31/ps:P31/wdt:P279* wd:Q3132741 .\n",
    "    ?article schema:about ?entity ;\n",
    "            schema:inLanguage \"en\" ;\n",
    "            schema:isPartOf <https://en.wikipedia.org/> ;\n",
    "            schema:name ?name .\n",
    "    FILTER NOT EXISTS { ?entity p:P31/ps:P31 wd:Q634 }\n",
    "    FILTER NOT EXISTS { ?entity p:P31/ps:P31 wd:Q44559 }\n",
    "    FILTER NOT EXISTS { ?entity p:P31/ps:P31 wd:Q30014 }\n",
    "    FILTER NOT EXISTS { ?entity p:P31/ps:P31 wd:Q121750 }\n",
    "    FILTER NOT EXISTS { ?entity p:P31/ps:P31 wd:Q128207 }\n",
    "    FILTER NOT EXISTS { ?entity p:P31/ps:P31 wd:Q205901 }\n",
    "    FILTER NOT EXISTS { ?entity p:P31/ps:P31 wd:Q327757 }\n",
    "    FILTER NOT EXISTS { ?entity p:P31/ps:P31 wd:Q337768 }\n",
    "    FILTER NOT EXISTS { ?entity p:P31/ps:P31 wd:Q382979 }\n",
    "    FILTER NOT EXISTS { ?entity p:P31/ps:P31 wd:Q367831 }\n",
    "    FILTER NOT EXISTS { ?entity p:P31/ps:P31 wd:Q420490 }\n",
    "    FILTER NOT EXISTS { ?entity p:P31/ps:P31 wd:Q65551241 }\n",
    "    FILTER NOT EXISTS { ?entity p:P31/ps:P31 wd:Q98273894 }\n",
    "    FILTER NOT EXISTS { ?entity p:P31/ps:P31 wd:Q83148567 }\n",
    "    FILTER NOT EXISTS { ?entity p:P31/ps:P31 wd:Q96380207 }\n",
    "    FILTER NOT EXISTS { ?entity p:P31/ps:P31 wd:Q30675096 }\n",
    "    FILTER NOT EXISTS { ?entity p:P31/ps:P31 wd:Q108336434 }\n",
    "  }\n",
    "} LIMIT 10000\"\"\""
   ]
  },
  {
   "cell_type": "markdown",
   "metadata": {},
   "source": [
    "## Example entities"
   ]
  },
  {
   "cell_type": "code",
   "execution_count": 5,
   "metadata": {},
   "outputs": [],
   "source": [
    "response = requests.get(KNOWLEDGE_GRAPH, params={'query' : POSITIVE_EXAMPLES_QUERY, 'format' : 'json'}, headers=QUERY_HEADERS)\n",
    "response.raise_for_status()\n",
    "json_response = response.json()\n",
    "records = [ [ result[\"entity\"][\"value\"], result[\"name\"][\"value\"], result[\"article\"][\"value\"] ] for result in json_response[\"results\"][\"bindings\"] ]\n",
    "records = random.sample(records, 10*SAMPLE_SIZE)\n",
    "records_with_pages = []\n",
    "for record in records:\n",
    "    try:\n",
    "        page = wikipedia.page(record[1], auto_suggest=True)\n",
    "        if not \"List\" in page.title and page.title == record[1]:\n",
    "            records_with_pages.append(record)\n",
    "    except Exception as e:\n",
    "        pass\n",
    "    if len(records_with_pages) == SAMPLE_SIZE:\n",
    "        break\n",
    "positive_examples = pd.DataFrame.from_records(records_with_pages, columns=[\"id\", \"name\", \"article\"])\n",
    "positive_examples[\"description\"] = positive_examples[\"name\"].apply(lambda name: wikipedia.summary(name, auto_suggest=False).replace('\"', r'\\\"').strip()) \n",
    "positive_examples[\"actual\"] = \"positive\""
   ]
  },
  {
   "cell_type": "code",
   "execution_count": 6,
   "metadata": {},
   "outputs": [
    {
     "name": "stderr",
     "output_type": "stream",
     "text": [
      "/Users/bradleyallen/Documents/GitHub/conceptual-engineering-using-llms/lib/python3.11/site-packages/wikipedia/wikipedia.py:389: GuessedAtParserWarning: No parser was explicitly specified, so I'm using the best available HTML parser for this system (\"lxml\"). This usually isn't a problem, but if you run this code on another system, or in a different virtual environment, it may use a different parser and behave differently.\n",
      "\n",
      "The code that caused this warning is on line 389 of the file /Users/bradleyallen/Documents/GitHub/conceptual-engineering-using-llms/lib/python3.11/site-packages/wikipedia/wikipedia.py. To get rid of this warning, pass the additional argument 'features=\"lxml\"' to the BeautifulSoup constructor.\n",
      "\n",
      "  lis = BeautifulSoup(html).find_all('li')\n"
     ]
    }
   ],
   "source": [
    "response = requests.get(KNOWLEDGE_GRAPH, params={'query' : NEGATIVE_EXAMPLES_QUERY, 'format' : 'json'}, headers=QUERY_HEADERS)\n",
    "response.raise_for_status()\n",
    "json_response = response.json()\n",
    "records = [ [ result[\"entity\"][\"value\"], result[\"name\"][\"value\"], result[\"article\"][\"value\"] ] for result in json_response[\"results\"][\"bindings\"] ]\n",
    "records = random.sample(records, 10*SAMPLE_SIZE)\n",
    "records_with_pages = []\n",
    "for record in records:\n",
    "    try:\n",
    "        page = wikipedia.page(record[1], auto_suggest=True)\n",
    "        if not \"List\" in page.title and page.title == record[1]:\n",
    "            records_with_pages.append(record)\n",
    "    except Exception as e:\n",
    "        pass\n",
    "    if len(records_with_pages) == SAMPLE_SIZE:\n",
    "        break\n",
    "negative_examples = pd.DataFrame.from_records(records_with_pages, columns=[\"id\", \"name\", \"article\"])\n",
    "negative_examples[\"description\"] = negative_examples[\"name\"].apply(lambda name: wikipedia.summary(name, auto_suggest=False).replace('\"', r'\\\"').strip()) \n",
    "negative_examples[\"actual\"] = \"negative\""
   ]
  },
  {
   "cell_type": "code",
   "execution_count": 7,
   "metadata": {},
   "outputs": [
    {
     "data": {
      "text/html": [
       "<div>\n",
       "<style scoped>\n",
       "    .dataframe tbody tr th:only-of-type {\n",
       "        vertical-align: middle;\n",
       "    }\n",
       "\n",
       "    .dataframe tbody tr th {\n",
       "        vertical-align: top;\n",
       "    }\n",
       "\n",
       "    .dataframe thead th {\n",
       "        text-align: right;\n",
       "    }\n",
       "</style>\n",
       "<table border=\"1\" class=\"dataframe\">\n",
       "  <thead>\n",
       "    <tr style=\"text-align: right;\">\n",
       "      <th></th>\n",
       "      <th>id</th>\n",
       "      <th>name</th>\n",
       "      <th>article</th>\n",
       "      <th>description</th>\n",
       "      <th>actual</th>\n",
       "    </tr>\n",
       "  </thead>\n",
       "  <tbody>\n",
       "    <tr>\n",
       "      <th>0</th>\n",
       "      <td>http://www.wikidata.org/entity/Q18649725</td>\n",
       "      <td>CoRoT-19b</td>\n",
       "      <td>https://en.wikipedia.org/wiki/CoRoT-19b</td>\n",
       "      <td>CoRoT-19b is a transiting exoplanet found by t...</td>\n",
       "      <td>positive</td>\n",
       "    </tr>\n",
       "    <tr>\n",
       "      <th>1</th>\n",
       "      <td>http://www.wikidata.org/entity/Q85765171</td>\n",
       "      <td>HIP 65426 b</td>\n",
       "      <td>https://en.wikipedia.org/wiki/HIP_65426_b</td>\n",
       "      <td>HIP 65426 b, formally named Najsakopajk, is a ...</td>\n",
       "      <td>positive</td>\n",
       "    </tr>\n",
       "    <tr>\n",
       "      <th>2</th>\n",
       "      <td>http://www.wikidata.org/entity/Q42956220</td>\n",
       "      <td>OGLE-2016-BLG-1190Lb</td>\n",
       "      <td>https://en.wikipedia.org/wiki/OGLE-2016-BLG-11...</td>\n",
       "      <td>OGLE-2016-BLG-1190Lb is an extremely massive e...</td>\n",
       "      <td>positive</td>\n",
       "    </tr>\n",
       "    <tr>\n",
       "      <th>3</th>\n",
       "      <td>http://www.wikidata.org/entity/Q19672944</td>\n",
       "      <td>Kepler-56c</td>\n",
       "      <td>https://en.wikipedia.org/wiki/Kepler-56c</td>\n",
       "      <td>Kepler-56c is a hot Jupiter (a class of exopla...</td>\n",
       "      <td>positive</td>\n",
       "    </tr>\n",
       "    <tr>\n",
       "      <th>4</th>\n",
       "      <td>http://www.wikidata.org/entity/Q597170</td>\n",
       "      <td>HD 28185 b</td>\n",
       "      <td>https://en.wikipedia.org/wiki/HD_28185_b</td>\n",
       "      <td>HD 28185 b is an extrasolar planet 128 light-y...</td>\n",
       "      <td>positive</td>\n",
       "    </tr>\n",
       "    <tr>\n",
       "      <th>...</th>\n",
       "      <td>...</td>\n",
       "      <td>...</td>\n",
       "      <td>...</td>\n",
       "      <td>...</td>\n",
       "      <td>...</td>\n",
       "    </tr>\n",
       "    <tr>\n",
       "      <th>95</th>\n",
       "      <td>http://www.wikidata.org/entity/Q2581556</td>\n",
       "      <td>(35671) 1998 SN165</td>\n",
       "      <td>https://en.wikipedia.org/wiki/(35671)_1998_SN165</td>\n",
       "      <td>(35671) 1998 SN165, prov. designation: 1998 SN...</td>\n",
       "      <td>negative</td>\n",
       "    </tr>\n",
       "    <tr>\n",
       "      <th>96</th>\n",
       "      <td>http://www.wikidata.org/entity/Q22084849</td>\n",
       "      <td>Whipple (spacecraft)</td>\n",
       "      <td>https://en.wikipedia.org/wiki/Whipple_(spacecr...</td>\n",
       "      <td>Whipple was a proposed space observatory in th...</td>\n",
       "      <td>negative</td>\n",
       "    </tr>\n",
       "    <tr>\n",
       "      <th>97</th>\n",
       "      <td>http://www.wikidata.org/entity/Q734423</td>\n",
       "      <td>Kosmos 17</td>\n",
       "      <td>https://en.wikipedia.org/wiki/Kosmos_17</td>\n",
       "      <td>Kosmos 17 (Russian: Космос 17 meaning Cosmos 1...</td>\n",
       "      <td>negative</td>\n",
       "    </tr>\n",
       "    <tr>\n",
       "      <th>98</th>\n",
       "      <td>http://www.wikidata.org/entity/Q30739729</td>\n",
       "      <td>CSES Mission</td>\n",
       "      <td>https://en.wikipedia.org/wiki/CSES_Mission</td>\n",
       "      <td>CSES (China Seismo-Electromagnetic Satellite),...</td>\n",
       "      <td>negative</td>\n",
       "    </tr>\n",
       "    <tr>\n",
       "      <th>99</th>\n",
       "      <td>http://www.wikidata.org/entity/Q8616</td>\n",
       "      <td>19P/Borrelly</td>\n",
       "      <td>https://en.wikipedia.org/wiki/19P/Borrelly</td>\n",
       "      <td>Comet Borrelly  or Borrelly's Comet (official ...</td>\n",
       "      <td>negative</td>\n",
       "    </tr>\n",
       "  </tbody>\n",
       "</table>\n",
       "<p>100 rows × 5 columns</p>\n",
       "</div>"
      ],
      "text/plain": [
       "                                          id                  name  \\\n",
       "0   http://www.wikidata.org/entity/Q18649725             CoRoT-19b   \n",
       "1   http://www.wikidata.org/entity/Q85765171           HIP 65426 b   \n",
       "2   http://www.wikidata.org/entity/Q42956220  OGLE-2016-BLG-1190Lb   \n",
       "3   http://www.wikidata.org/entity/Q19672944            Kepler-56c   \n",
       "4     http://www.wikidata.org/entity/Q597170            HD 28185 b   \n",
       "..                                       ...                   ...   \n",
       "95   http://www.wikidata.org/entity/Q2581556    (35671) 1998 SN165   \n",
       "96  http://www.wikidata.org/entity/Q22084849  Whipple (spacecraft)   \n",
       "97    http://www.wikidata.org/entity/Q734423             Kosmos 17   \n",
       "98  http://www.wikidata.org/entity/Q30739729          CSES Mission   \n",
       "99      http://www.wikidata.org/entity/Q8616          19P/Borrelly   \n",
       "\n",
       "                                              article  \\\n",
       "0             https://en.wikipedia.org/wiki/CoRoT-19b   \n",
       "1           https://en.wikipedia.org/wiki/HIP_65426_b   \n",
       "2   https://en.wikipedia.org/wiki/OGLE-2016-BLG-11...   \n",
       "3            https://en.wikipedia.org/wiki/Kepler-56c   \n",
       "4            https://en.wikipedia.org/wiki/HD_28185_b   \n",
       "..                                                ...   \n",
       "95   https://en.wikipedia.org/wiki/(35671)_1998_SN165   \n",
       "96  https://en.wikipedia.org/wiki/Whipple_(spacecr...   \n",
       "97            https://en.wikipedia.org/wiki/Kosmos_17   \n",
       "98         https://en.wikipedia.org/wiki/CSES_Mission   \n",
       "99         https://en.wikipedia.org/wiki/19P/Borrelly   \n",
       "\n",
       "                                          description    actual  \n",
       "0   CoRoT-19b is a transiting exoplanet found by t...  positive  \n",
       "1   HIP 65426 b, formally named Najsakopajk, is a ...  positive  \n",
       "2   OGLE-2016-BLG-1190Lb is an extremely massive e...  positive  \n",
       "3   Kepler-56c is a hot Jupiter (a class of exopla...  positive  \n",
       "4   HD 28185 b is an extrasolar planet 128 light-y...  positive  \n",
       "..                                                ...       ...  \n",
       "95  (35671) 1998 SN165, prov. designation: 1998 SN...  negative  \n",
       "96  Whipple was a proposed space observatory in th...  negative  \n",
       "97  Kosmos 17 (Russian: Космос 17 meaning Cosmos 1...  negative  \n",
       "98  CSES (China Seismo-Electromagnetic Satellite),...  negative  \n",
       "99  Comet Borrelly  or Borrelly's Comet (official ...  negative  \n",
       "\n",
       "[100 rows x 5 columns]"
      ]
     },
     "execution_count": 7,
     "metadata": {},
     "output_type": "execute_result"
    }
   ],
   "source": [
    "examples = pd.concat([positive_examples, negative_examples], ignore_index=True)\n",
    "examples"
   ]
  },
  {
   "cell_type": "markdown",
   "metadata": {},
   "source": [
    "## Experiments"
   ]
  },
  {
   "cell_type": "code",
   "execution_count": 8,
   "metadata": {},
   "outputs": [],
   "source": [
    "def run_experiment(cp, examples):\n",
    "    classifications = examples.to_dict(\"records\")\n",
    "    for entity in tqdm(classifications):\n",
    "        classification = cp.classify(entity[\"name\"], entity[\"description\"])\n",
    "        entity[\"rationale\"] = classification[\"rationale\"]\n",
    "        entity[\"predicted\"] = classification[\"answer\"]\n",
    "    return pd.DataFrame.from_records(classifications)"
   ]
  },
  {
   "cell_type": "code",
   "execution_count": 9,
   "metadata": {},
   "outputs": [
    {
     "name": "stderr",
     "output_type": "stream",
     "text": [
      "100%|██████████| 100/100 [12:09<00:00,  7.29s/it]\n"
     ]
    }
   ],
   "source": [
    "oed_planet_results = run_experiment(oed_planet, examples)"
   ]
  },
  {
   "cell_type": "code",
   "execution_count": 11,
   "metadata": {},
   "outputs": [
    {
     "name": "stderr",
     "output_type": "stream",
     "text": [
      "100%|██████████| 100/100 [12:17<00:00,  7.37s/it]\n"
     ]
    }
   ],
   "source": [
    "iau_2006_8_16_planet_results = run_experiment(iau_2006_8_16_planet, examples)"
   ]
  },
  {
   "cell_type": "code",
   "execution_count": 12,
   "metadata": {},
   "outputs": [
    {
     "name": "stderr",
     "output_type": "stream",
     "text": [
      " 80%|████████  | 80/100 [12:16<02:25,  7.28s/it]Retrying langchain.chat_models.openai.ChatOpenAI.completion_with_retry.<locals>._completion_with_retry in 4.0 seconds as it raised Timeout: Request timed out: HTTPSConnectionPool(host='api.openai.com', port=443): Read timed out. (read timeout=600).\n",
      "100%|██████████| 100/100 [43:32<00:00, 26.12s/it]  \n"
     ]
    }
   ],
   "source": [
    "iau_2006_8_24_planet_results = run_experiment(iau_2006_8_24_planet, examples)"
   ]
  },
  {
   "cell_type": "markdown",
   "metadata": {},
   "source": [
    "## Performance metrics"
   ]
  },
  {
   "cell_type": "code",
   "execution_count": 13,
   "metadata": {},
   "outputs": [],
   "source": [
    "oed_planet_cm = pycm.ConfusionMatrix(\n",
    "    oed_planet_results[\"actual\"].tolist(), \n",
    "    oed_planet_results[\"predicted\"].tolist(), \n",
    "    digit=2, \n",
    "    classes=[ 'positive', 'negative' ]\n",
    ")\n",
    "\n",
    "iau_2006_8_16_planet_cm = pycm.ConfusionMatrix(\n",
    "    iau_2006_8_16_planet_results[\"actual\"].tolist(), \n",
    "    iau_2006_8_16_planet_results[\"predicted\"].tolist(), \n",
    "    digit=2, \n",
    "    classes=[ 'positive', 'negative' ]\n",
    ")\n",
    "\n",
    "iau_2006_8_24_planet_cm = pycm.ConfusionMatrix(\n",
    "    iau_2006_8_24_planet_results[\"actual\"].tolist(), \n",
    "    iau_2006_8_24_planet_results[\"predicted\"].tolist(), \n",
    "    digit=2, \n",
    "    classes=[ 'positive', 'negative' ]\n",
    ")"
   ]
  },
  {
   "cell_type": "code",
   "execution_count": 14,
   "metadata": {},
   "outputs": [],
   "source": [
    "cms = [\n",
    "    (f'{oed_planet.term} ({oed_planet.id})', oed_planet_cm),\n",
    "    (f'{iau_2006_8_16_planet.term} ({iau_2006_8_16_planet.id})', iau_2006_8_16_planet_cm),\n",
    "    (f'{iau_2006_8_24_planet.term} ({iau_2006_8_24_planet.id})', iau_2006_8_24_planet_cm)\n",
    "]"
   ]
  },
  {
   "cell_type": "code",
   "execution_count": 15,
   "metadata": {},
   "outputs": [
    {
     "data": {
      "image/png": "[encoded data removed]",
      "text/plain": [
       "<Figure size 2000x1400 with 23 Axes>"
      ]
     },
     "metadata": {},
     "output_type": "display_data"
    }
   ],
   "source": [
    "fig = plt.figure(figsize=(20,14))\n",
    "gs = fig.add_gridspec(4, 5, hspace=0.5)\n",
    "axes = gs.subplots()\n",
    "for ax, (name, cm) in zip(axes.flat, cms):\n",
    "    df = pd.DataFrame(cm.matrix).T.fillna(0)\n",
    "    sns.heatmap(df, annot=True, fmt='d', cmap=\"YlGnBu\", ax=ax)\n",
    "    ax.set_title(name, wrap=True, fontsize=9)\n",
    "    ax.set(xlabel='classification\\nprocedure', ylabel='Wikidata')\n",
    "for ax in axes.flat[len(cms):]:\n",
    "    ax.set_visible(False)\n",
    "plt.show()"
   ]
  },
  {
   "cell_type": "code",
   "execution_count": 16,
   "metadata": {},
   "outputs": [
    {
     "data": {
      "text/html": [
       "<div>\n",
       "<style scoped>\n",
       "    .dataframe tbody tr th:only-of-type {\n",
       "        vertical-align: middle;\n",
       "    }\n",
       "\n",
       "    .dataframe tbody tr th {\n",
       "        vertical-align: top;\n",
       "    }\n",
       "\n",
       "    .dataframe thead th {\n",
       "        text-align: right;\n",
       "    }\n",
       "</style>\n",
       "<table border=\"1\" class=\"dataframe\">\n",
       "  <thead>\n",
       "    <tr style=\"text-align: right;\">\n",
       "      <th></th>\n",
       "      <th>classification procedure</th>\n",
       "      <th>Cohen's kappa</th>\n",
       "      <th>F1 macro</th>\n",
       "      <th>FN</th>\n",
       "      <th>FP</th>\n",
       "    </tr>\n",
       "  </thead>\n",
       "  <tbody>\n",
       "    <tr>\n",
       "      <th>2</th>\n",
       "      <td>planet (IAU 2006-08-24)</td>\n",
       "      <td>0.96</td>\n",
       "      <td>0.980000</td>\n",
       "      <td>1</td>\n",
       "      <td>1</td>\n",
       "    </tr>\n",
       "    <tr>\n",
       "      <th>1</th>\n",
       "      <td>planet (IAU 2006-08-16)</td>\n",
       "      <td>0.94</td>\n",
       "      <td>0.969997</td>\n",
       "      <td>1</td>\n",
       "      <td>2</td>\n",
       "    </tr>\n",
       "    <tr>\n",
       "      <th>0</th>\n",
       "      <td>planet (OED)</td>\n",
       "      <td>0.92</td>\n",
       "      <td>0.959984</td>\n",
       "      <td>1</td>\n",
       "      <td>3</td>\n",
       "    </tr>\n",
       "  </tbody>\n",
       "</table>\n",
       "</div>"
      ],
      "text/plain": [
       "  classification procedure  Cohen's kappa  F1 macro  FN  FP\n",
       "2  planet (IAU 2006-08-24)           0.96  0.980000   1   1\n",
       "1  planet (IAU 2006-08-16)           0.94  0.969997   1   2\n",
       "0             planet (OED)           0.92  0.959984   1   3"
      ]
     },
     "execution_count": 16,
     "metadata": {},
     "output_type": "execute_result"
    }
   ],
   "source": [
    "metrics = pd.DataFrame.from_records([ \n",
    "    { \"classification procedure\": cm[0], \"Cohen's kappa\": cm[1].Kappa, \"F1 macro\": cm[1].F1_Macro, \"FN\": cm[1].FN[\"positive\"], \"FP\": cm[1].FP[\"positive\"] }\n",
    "    for cm in cms \n",
    "])\n",
    "metrics.sort_values(by=\"Cohen's kappa\", ascending=False)"
   ]
  },
  {
   "cell_type": "markdown",
   "metadata": {},
   "source": [
    "## Error analyses"
   ]
  },
  {
   "cell_type": "code",
   "execution_count": 17,
   "metadata": {},
   "outputs": [],
   "source": [
    "def display_errors(cp, results):\n",
    "    display(Markdown(f'### {cp.term} ({cp.id})'))\n",
    "    display(Markdown(f'#### Definition'))\n",
    "    display(Markdown(f'{cp.definition}'))\n",
    "    fns = results[((results[\"actual\"] == 'positive') & (results[\"predicted\"] == 'negative'))][[\"name\", \"description\", \"rationale\"]]\n",
    "    if len(fns) > 0:\n",
    "        fns_styler = fns.style.set_properties(**{\"text-align\": \"left\", \"vertical-align\" : \"top\", \"overflow-wrap\": \"break-word\"}).hide(axis=\"index\")\n",
    "        display(Markdown(f'#### False negatives'))\n",
    "        display(fns_styler)\n",
    "    fps = results[((results[\"actual\"] == 'negative') & (results[\"predicted\"] == 'positive'))][[\"name\", \"description\", \"rationale\"]]\n",
    "    if len(fps) > 0:\n",
    "        fps_styler = fps.style.set_properties(**{\"text-align\": \"left\", \"vertical-align\" : \"top\", \"overflow-wrap\": \"break-word\"}).hide(axis=\"index\")\n",
    "        display(Markdown(f'#### False positives'))\n",
    "        display(fps_styler)\n"
   ]
  },
  {
   "cell_type": "code",
   "execution_count": 18,
   "metadata": {},
   "outputs": [
    {
     "data": {
      "text/markdown": [
       "### planet (OED)"
      ],
      "text/plain": [
       "<IPython.core.display.Markdown object>"
      ]
     },
     "metadata": {},
     "output_type": "display_data"
    },
    {
     "data": {
      "text/markdown": [
       "#### Definition"
      ],
      "text/plain": [
       "<IPython.core.display.Markdown object>"
      ]
     },
     "metadata": {},
     "output_type": "display_data"
    },
    {
     "data": {
      "text/markdown": [
       "Any of various rocky or gaseous bodies that revolve in approximately elliptical orbits \n",
       "around the sun and are visible by its reflected light; esp. each of the planets Mercury, Venus, \n",
       "Earth, Mars, Jupiter, Saturn, Uranus, Neptune, and (until 2006) Pluto (in order of increasing \n",
       "distance from the sun); a similar body revolving around another star. Also: any of various \n",
       "smaller bodies that revolve around these (cf. satellite n. 2a)."
      ],
      "text/plain": [
       "<IPython.core.display.Markdown object>"
      ]
     },
     "metadata": {},
     "output_type": "display_data"
    },
    {
     "data": {
      "text/markdown": [
       "#### False negatives"
      ],
      "text/plain": [
       "<IPython.core.display.Markdown object>"
      ]
     },
     "metadata": {},
     "output_type": "display_data"
    },
    {
     "data": {
      "text/html": [
       "<style type=\"text/css\">\n",
       "#T_84d5c_row0_col0, #T_84d5c_row0_col1, #T_84d5c_row0_col2 {\n",
       "  text-align: left;\n",
       "  vertical-align: top;\n",
       "  overflow-wrap: break-word;\n",
       "}\n",
       "</style>\n",
       "<table id=\"T_84d5c\">\n",
       "  <thead>\n",
       "    <tr>\n",
       "      <th id=\"T_84d5c_level0_col0\" class=\"col_heading level0 col0\" >name</th>\n",
       "      <th id=\"T_84d5c_level0_col1\" class=\"col_heading level0 col1\" >description</th>\n",
       "      <th id=\"T_84d5c_level0_col2\" class=\"col_heading level0 col2\" >rationale</th>\n",
       "    </tr>\n",
       "  </thead>\n",
       "  <tbody>\n",
       "    <tr>\n",
       "      <td id=\"T_84d5c_row0_col0\" class=\"data row0 col0\" >2MASS J03552337+1133437</td>\n",
       "      <td id=\"T_84d5c_row0_col1\" class=\"data row0 col1\" >2MASS J03552337+1133437 (2MASS J0355+11) is a nearby brown dwarf of spectral type L5γ, located in constellation Taurus at approximately 29.8 light-years from Earth.</td>\n",
       "      <td id=\"T_84d5c_row0_col2\" class=\"data row0 col2\" >The definition provided does not support the assertion that 2MASS J03552337+1133437 is a planet. According to the definition, a planet is a body that revolves in an elliptical orbit around the sun or another star. However, the description of 2MASS J03552337+1133437 identifies it as a brown dwarf, not a planet. A brown dwarf is a type of celestial body that is larger than a planet but not large enough to sustain nuclear fusion like a star. Therefore, based on the provided definition and description, it cannot be argued that 2MASS J03552337+1133437 is a planet.</td>\n",
       "    </tr>\n",
       "  </tbody>\n",
       "</table>\n"
      ],
      "text/plain": [
       "<pandas.io.formats.style.Styler at 0x151c32910>"
      ]
     },
     "metadata": {},
     "output_type": "display_data"
    },
    {
     "data": {
      "text/markdown": [
       "#### False positives"
      ],
      "text/plain": [
       "<IPython.core.display.Markdown object>"
      ]
     },
     "metadata": {},
     "output_type": "display_data"
    },
    {
     "data": {
      "text/html": [
       "<style type=\"text/css\">\n",
       "#T_78079_row0_col0, #T_78079_row0_col1, #T_78079_row0_col2, #T_78079_row1_col0, #T_78079_row1_col1, #T_78079_row1_col2, #T_78079_row2_col0, #T_78079_row2_col1, #T_78079_row2_col2 {\n",
       "  text-align: left;\n",
       "  vertical-align: top;\n",
       "  overflow-wrap: break-word;\n",
       "}\n",
       "</style>\n",
       "<table id=\"T_78079\">\n",
       "  <thead>\n",
       "    <tr>\n",
       "      <th id=\"T_78079_level0_col0\" class=\"col_heading level0 col0\" >name</th>\n",
       "      <th id=\"T_78079_level0_col1\" class=\"col_heading level0 col1\" >description</th>\n",
       "      <th id=\"T_78079_level0_col2\" class=\"col_heading level0 col2\" >rationale</th>\n",
       "    </tr>\n",
       "  </thead>\n",
       "  <tbody>\n",
       "    <tr>\n",
       "      <td id=\"T_78079_row0_col0\" class=\"data row0 col0\" >(613100) 2005 TN74</td>\n",
       "      <td id=\"T_78079_row0_col1\" class=\"data row0 col1\" >(613100) 2005 TN74 (also written 2005 TN74) is a trans-Neptunian object (TNO) in a 3:5 resonance with Neptune. It was discovered by Scott S. Sheppard and Chadwick A. Trujillo in 2005.\n",
       "It was initially suspected of being a Neptune trojan since the first observations gave it a semi-major axis of 30 AU and an orbital eccentricity of 0.16, but further observations showed it to have a semi-major axis of 42.7 AU, a perihelion of 32.1 AU, and an aphelion of 53.4 AU.With an absolute magnitude of 7.2, it has an expected diameter in the range of 85 to 240 km.It has been observed 19 times over four oppositions.</td>\n",
       "      <td id=\"T_78079_row0_col2\" class=\"data row0 col2\" >(613100) 2005 TN74 can be considered a planet based on the provided definition because it is a body that revolves in an elliptical orbit around the sun, which is one of the key characteristics of a planet. It is visible by the sun's reflected light, another characteristic mentioned in the definition. Furthermore, it is a trans-Neptunian object, meaning it is located beyond Neptune, one of the planets listed in the definition. Although its size is smaller than the traditional planets, the definition does not specify a minimum size for a planet, and it includes smaller bodies that revolve around the sun. Therefore, based on the provided definition, (613100) 2005 TN74 can be argued to be a planet.</td>\n",
       "    </tr>\n",
       "    <tr>\n",
       "      <td id=\"T_78079_row1_col0\" class=\"data row1 col0\" >2010 GB174</td>\n",
       "      <td id=\"T_78079_row1_col1\" class=\"data row1 col1\" >2010 GB174 is a detached object, discovered on 12 April 2010 on data taken at the Canada France Hawaii Telescope as part of the Next Generation Virgo Cluster Survey. It never gets closer than 48.5 AU from the Sun (about the outer edge of the Kuiper belt). Its large eccentricity strongly suggests that it was gravitationally scattered onto its current orbit. It is, like all detached objects, outside the current influence of Neptune, so how it got its current orbit is unknown. 2010 GB174 has the third highest Tisserand parameter relative to Jupiter of any Trans-Neptunian object, after Sedna and 2012 VP113. It has not been observed since 2015. It comes to opposition in late March each year in the constellation of Virgo.\n",
       "Precovery images have been found back to 26 June 2009.It reached perihelion (closest approach to the Sun) in mid-1951 and has moved beyond 70 AU in September 2014. It is possibly a dwarf planet.</td>\n",
       "      <td id=\"T_78079_row1_col2\" class=\"data row1 col2\" >2010 GB174 could be considered a planet based on the provided definition. The definition states that a planet is a rocky or gaseous body that revolves in approximately elliptical orbits around the sun and is visible by its reflected light. 2010 GB174 fits this description as it revolves around the sun, albeit at a great distance, and is visible by its reflected light. The definition also includes smaller bodies that revolve around these planets, which could potentially include 2010 GB174. Furthermore, the definition mentions that a planet can be a similar body revolving around another star, which leaves room for objects like 2010 GB174 that are outside the current influence of Neptune. Lastly, the definition does not exclude the possibility of a planet having a large eccentricity or being gravitationally scattered onto its current orbit, both characteristics of 2010 GB174. Therefore, based on the provided definition, one could argue that 2010 GB174 is a planet.</td>\n",
       "    </tr>\n",
       "    <tr>\n",
       "      <td id=\"T_78079_row2_col0\" class=\"data row2 col0\" >(35671) 1998 SN165</td>\n",
       "      <td id=\"T_78079_row2_col1\" class=\"data row2 col1\" >(35671) 1998 SN165, prov. designation: 1998 SN165, is a trans-Neptunian object from the Kuiper belt located in the outermost region of the Solar System. It was discovered on 23 September 1998, by American astronomer Arianna Gleason at the Kitt Peak National Observatory near Tucson, Arizona. The cold classical Kuiper belt object is a dwarf planet candidate, as it measures approximately 400 kilometers (250 miles) in diameter. It has a grey-blue color (BB) and a rotation period of 8.8 hours. As of 2021, it has not been named.</td>\n",
       "      <td id=\"T_78079_row2_col2\" class=\"data row2 col2\" >(35671) 1998 SN165 can be considered a planet based on the provided definition. The definition states that a planet is a rocky or gaseous body that revolves in approximately elliptical orbits around the sun and is visible by its reflected light. (35671) 1998 SN165 fits this description as it is a trans-Neptunian object from the Kuiper belt located in the outermost region of the Solar System, meaning it revolves around the sun. It is also visible by its reflected light, as indicated by its grey-blue color. Furthermore, the definition includes smaller bodies that revolve around these planets, which could potentially include (35671) 1998 SN165 as it is a dwarf planet candidate. Therefore, based on the provided definition, one could argue that (35671) 1998 SN165 is a planet.</td>\n",
       "    </tr>\n",
       "  </tbody>\n",
       "</table>\n"
      ],
      "text/plain": [
       "<pandas.io.formats.style.Styler at 0x152b3e490>"
      ]
     },
     "metadata": {},
     "output_type": "display_data"
    }
   ],
   "source": [
    "display_errors(oed_planet, oed_planet_results)"
   ]
  },
  {
   "cell_type": "code",
   "execution_count": 19,
   "metadata": {},
   "outputs": [
    {
     "data": {
      "text/markdown": [
       "### planet (IAU 2006-08-16)"
      ],
      "text/plain": [
       "<IPython.core.display.Markdown object>"
      ]
     },
     "metadata": {},
     "output_type": "display_data"
    },
    {
     "data": {
      "text/markdown": [
       "#### Definition"
      ],
      "text/plain": [
       "<IPython.core.display.Markdown object>"
      ]
     },
     "metadata": {},
     "output_type": "display_data"
    },
    {
     "data": {
      "text/markdown": [
       "A planet is a celestial body that (a) has sufficient mass for its self-gravity to \n",
       "overcome rigid body forces so that it assumes a hydrostatic equilibrium (nearly round) shape, \n",
       "and (b) is in orbit around a star, and is neither a star nor a satellite of a planet."
      ],
      "text/plain": [
       "<IPython.core.display.Markdown object>"
      ]
     },
     "metadata": {},
     "output_type": "display_data"
    },
    {
     "data": {
      "text/markdown": [
       "#### False negatives"
      ],
      "text/plain": [
       "<IPython.core.display.Markdown object>"
      ]
     },
     "metadata": {},
     "output_type": "display_data"
    },
    {
     "data": {
      "text/html": [
       "<style type=\"text/css\">\n",
       "#T_dd662_row0_col0, #T_dd662_row0_col1, #T_dd662_row0_col2 {\n",
       "  text-align: left;\n",
       "  vertical-align: top;\n",
       "  overflow-wrap: break-word;\n",
       "}\n",
       "</style>\n",
       "<table id=\"T_dd662\">\n",
       "  <thead>\n",
       "    <tr>\n",
       "      <th id=\"T_dd662_level0_col0\" class=\"col_heading level0 col0\" >name</th>\n",
       "      <th id=\"T_dd662_level0_col1\" class=\"col_heading level0 col1\" >description</th>\n",
       "      <th id=\"T_dd662_level0_col2\" class=\"col_heading level0 col2\" >rationale</th>\n",
       "    </tr>\n",
       "  </thead>\n",
       "  <tbody>\n",
       "    <tr>\n",
       "      <td id=\"T_dd662_row0_col0\" class=\"data row0 col0\" >2MASS J03552337+1133437</td>\n",
       "      <td id=\"T_dd662_row0_col1\" class=\"data row0 col1\" >2MASS J03552337+1133437 (2MASS J0355+11) is a nearby brown dwarf of spectral type L5γ, located in constellation Taurus at approximately 29.8 light-years from Earth.</td>\n",
       "      <td id=\"T_dd662_row0_col2\" class=\"data row0 col2\" >The given definition cannot support the assertion that 2MASS J03552337+1133437 is a planet. The description of 2MASS J03552337+1133437 identifies it as a brown dwarf, not a planet. Furthermore, there is no information provided that it is in orbit around a star, which is a necessary condition for being classified as a planet according to the given definition. Therefore, based on the provided information, we cannot argue that 2MASS J03552337+1133437 is a planet.</td>\n",
       "    </tr>\n",
       "  </tbody>\n",
       "</table>\n"
      ],
      "text/plain": [
       "<pandas.io.formats.style.Styler at 0x152da3bd0>"
      ]
     },
     "metadata": {},
     "output_type": "display_data"
    },
    {
     "data": {
      "text/markdown": [
       "#### False positives"
      ],
      "text/plain": [
       "<IPython.core.display.Markdown object>"
      ]
     },
     "metadata": {},
     "output_type": "display_data"
    },
    {
     "data": {
      "text/html": [
       "<style type=\"text/css\">\n",
       "#T_1a023_row0_col0, #T_1a023_row0_col1, #T_1a023_row0_col2, #T_1a023_row1_col0, #T_1a023_row1_col1, #T_1a023_row1_col2 {\n",
       "  text-align: left;\n",
       "  vertical-align: top;\n",
       "  overflow-wrap: break-word;\n",
       "}\n",
       "</style>\n",
       "<table id=\"T_1a023\">\n",
       "  <thead>\n",
       "    <tr>\n",
       "      <th id=\"T_1a023_level0_col0\" class=\"col_heading level0 col0\" >name</th>\n",
       "      <th id=\"T_1a023_level0_col1\" class=\"col_heading level0 col1\" >description</th>\n",
       "      <th id=\"T_1a023_level0_col2\" class=\"col_heading level0 col2\" >rationale</th>\n",
       "    </tr>\n",
       "  </thead>\n",
       "  <tbody>\n",
       "    <tr>\n",
       "      <td id=\"T_1a023_row0_col0\" class=\"data row0 col0\" >2010 GB174</td>\n",
       "      <td id=\"T_1a023_row0_col1\" class=\"data row0 col1\" >2010 GB174 is a detached object, discovered on 12 April 2010 on data taken at the Canada France Hawaii Telescope as part of the Next Generation Virgo Cluster Survey. It never gets closer than 48.5 AU from the Sun (about the outer edge of the Kuiper belt). Its large eccentricity strongly suggests that it was gravitationally scattered onto its current orbit. It is, like all detached objects, outside the current influence of Neptune, so how it got its current orbit is unknown. 2010 GB174 has the third highest Tisserand parameter relative to Jupiter of any Trans-Neptunian object, after Sedna and 2012 VP113. It has not been observed since 2015. It comes to opposition in late March each year in the constellation of Virgo.\n",
       "Precovery images have been found back to 26 June 2009.It reached perihelion (closest approach to the Sun) in mid-1951 and has moved beyond 70 AU in September 2014. It is possibly a dwarf planet.</td>\n",
       "      <td id=\"T_1a023_row0_col2\" class=\"data row0 col2\" >The description of 2010 GB174 suggests that it could be considered a planet based on the provided definition. Firstly, it is a celestial body that is in orbit around a star, specifically the Sun. This satisfies the second part of the definition. Secondly, while the description does not explicitly state that 2010 GB174 has a nearly round shape, it is suggested that it might be a dwarf planet. Given that dwarf planets are known to have sufficient mass for their self-gravity to overcome rigid body forces and assume a hydrostatic equilibrium (nearly round) shape, it can be inferred that 2010 GB174 might also possess these characteristics. Lastly, it is neither a star nor a satellite of a planet, which aligns with the final part of the definition. Therefore, based on the provided definition and the information in the description, there is a reasonable argument to classify 2010 GB174 as a planet.</td>\n",
       "    </tr>\n",
       "    <tr>\n",
       "      <td id=\"T_1a023_row1_col0\" class=\"data row1 col0\" >(35671) 1998 SN165</td>\n",
       "      <td id=\"T_1a023_row1_col1\" class=\"data row1 col1\" >(35671) 1998 SN165, prov. designation: 1998 SN165, is a trans-Neptunian object from the Kuiper belt located in the outermost region of the Solar System. It was discovered on 23 September 1998, by American astronomer Arianna Gleason at the Kitt Peak National Observatory near Tucson, Arizona. The cold classical Kuiper belt object is a dwarf planet candidate, as it measures approximately 400 kilometers (250 miles) in diameter. It has a grey-blue color (BB) and a rotation period of 8.8 hours. As of 2021, it has not been named.</td>\n",
       "      <td id=\"T_1a023_row1_col2\" class=\"data row1 col2\" >(35671) 1998 SN165 could potentially be considered a planet based on the provided definition. The definition states that a planet is a celestial body that has sufficient mass for its self-gravity to overcome rigid body forces so that it assumes a hydrostatic equilibrium (nearly round) shape. The description of (35671) 1998 SN165 mentions that it is a dwarf planet candidate, which implies that it has a nearly round shape due to its self-gravity. \n",
       "\n",
       "The definition also states that a planet is in orbit around a star and is neither a star nor a satellite of a planet. (35671) 1998 SN165 is described as a trans-Neptunian object from the Kuiper belt located in the outermost region of the Solar System, which means it is in orbit around the Sun, a star. The description does not mention it being a star itself or a satellite of a planet, so it meets this part of the definition as well. \n",
       "\n",
       "Therefore, based on the provided definition and the information given in the description, there is a valid argument for considering (35671) 1998 SN165 as a planet.</td>\n",
       "    </tr>\n",
       "  </tbody>\n",
       "</table>\n"
      ],
      "text/plain": [
       "<pandas.io.formats.style.Styler at 0x152bc6cd0>"
      ]
     },
     "metadata": {},
     "output_type": "display_data"
    }
   ],
   "source": [
    "display_errors(iau_2006_8_16_planet, iau_2006_8_16_planet_results)"
   ]
  },
  {
   "cell_type": "code",
   "execution_count": 20,
   "metadata": {},
   "outputs": [
    {
     "data": {
      "text/markdown": [
       "### planet (IAU 2006-08-24)"
      ],
      "text/plain": [
       "<IPython.core.display.Markdown object>"
      ]
     },
     "metadata": {},
     "output_type": "display_data"
    },
    {
     "data": {
      "text/markdown": [
       "#### Definition"
      ],
      "text/plain": [
       "<IPython.core.display.Markdown object>"
      ]
     },
     "metadata": {},
     "output_type": "display_data"
    },
    {
     "data": {
      "text/markdown": [
       "A planet [1] is a celestial body that (a) is in orbit around the Sun, (b) has sufficient \n",
       "mass for its self-gravity to overcome rigid body forces so that it assumes a hydrostatic \n",
       "equilibrium (nearly round) shape, and (c) has cleared the neighbourhood around its orbit."
      ],
      "text/plain": [
       "<IPython.core.display.Markdown object>"
      ]
     },
     "metadata": {},
     "output_type": "display_data"
    },
    {
     "data": {
      "text/markdown": [
       "#### False negatives"
      ],
      "text/plain": [
       "<IPython.core.display.Markdown object>"
      ]
     },
     "metadata": {},
     "output_type": "display_data"
    },
    {
     "data": {
      "text/html": [
       "<style type=\"text/css\">\n",
       "#T_4488f_row0_col0, #T_4488f_row0_col1, #T_4488f_row0_col2 {\n",
       "  text-align: left;\n",
       "  vertical-align: top;\n",
       "  overflow-wrap: break-word;\n",
       "}\n",
       "</style>\n",
       "<table id=\"T_4488f\">\n",
       "  <thead>\n",
       "    <tr>\n",
       "      <th id=\"T_4488f_level0_col0\" class=\"col_heading level0 col0\" >name</th>\n",
       "      <th id=\"T_4488f_level0_col1\" class=\"col_heading level0 col1\" >description</th>\n",
       "      <th id=\"T_4488f_level0_col2\" class=\"col_heading level0 col2\" >rationale</th>\n",
       "    </tr>\n",
       "  </thead>\n",
       "  <tbody>\n",
       "    <tr>\n",
       "      <td id=\"T_4488f_row0_col0\" class=\"data row0 col0\" >2MASS J03552337+1133437</td>\n",
       "      <td id=\"T_4488f_row0_col1\" class=\"data row0 col1\" >2MASS J03552337+1133437 (2MASS J0355+11) is a nearby brown dwarf of spectral type L5γ, located in constellation Taurus at approximately 29.8 light-years from Earth.</td>\n",
       "      <td id=\"T_4488f_row0_col2\" class=\"data row0 col2\" >The given definition cannot support the assertion that 2MASS J03552337+1133437 is a planet. The description of 2MASS J03552337+1133437 identifies it as a brown dwarf, not a planet. Furthermore, the definition requires a planet to be in orbit around the Sun, and there is no information provided that 2MASS J03552337+1133437 orbits the Sun. Therefore, based on the provided definition and information, we cannot argue that 2MASS J03552337+1133437 is a planet.</td>\n",
       "    </tr>\n",
       "  </tbody>\n",
       "</table>\n"
      ],
      "text/plain": [
       "<pandas.io.formats.style.Styler at 0x2828d69d0>"
      ]
     },
     "metadata": {},
     "output_type": "display_data"
    },
    {
     "data": {
      "text/markdown": [
       "#### False positives"
      ],
      "text/plain": [
       "<IPython.core.display.Markdown object>"
      ]
     },
     "metadata": {},
     "output_type": "display_data"
    },
    {
     "data": {
      "text/html": [
       "<style type=\"text/css\">\n",
       "#T_8962e_row0_col0, #T_8962e_row0_col1, #T_8962e_row0_col2 {\n",
       "  text-align: left;\n",
       "  vertical-align: top;\n",
       "  overflow-wrap: break-word;\n",
       "}\n",
       "</style>\n",
       "<table id=\"T_8962e\">\n",
       "  <thead>\n",
       "    <tr>\n",
       "      <th id=\"T_8962e_level0_col0\" class=\"col_heading level0 col0\" >name</th>\n",
       "      <th id=\"T_8962e_level0_col1\" class=\"col_heading level0 col1\" >description</th>\n",
       "      <th id=\"T_8962e_level0_col2\" class=\"col_heading level0 col2\" >rationale</th>\n",
       "    </tr>\n",
       "  </thead>\n",
       "  <tbody>\n",
       "    <tr>\n",
       "      <td id=\"T_8962e_row0_col0\" class=\"data row0 col0\" >2010 GB174</td>\n",
       "      <td id=\"T_8962e_row0_col1\" class=\"data row0 col1\" >2010 GB174 is a detached object, discovered on 12 April 2010 on data taken at the Canada France Hawaii Telescope as part of the Next Generation Virgo Cluster Survey. It never gets closer than 48.5 AU from the Sun (about the outer edge of the Kuiper belt). Its large eccentricity strongly suggests that it was gravitationally scattered onto its current orbit. It is, like all detached objects, outside the current influence of Neptune, so how it got its current orbit is unknown. 2010 GB174 has the third highest Tisserand parameter relative to Jupiter of any Trans-Neptunian object, after Sedna and 2012 VP113. It has not been observed since 2015. It comes to opposition in late March each year in the constellation of Virgo.\n",
       "Precovery images have been found back to 26 June 2009.It reached perihelion (closest approach to the Sun) in mid-1951 and has moved beyond 70 AU in September 2014. It is possibly a dwarf planet.</td>\n",
       "      <td id=\"T_8962e_row0_col2\" class=\"data row0 col2\" >Based on the provided definition, an argument can be made that 2010 GB174 is a planet. Firstly, it is in orbit around the Sun, satisfying condition (a) of the definition. Secondly, the description suggests that 2010 GB174 has sufficient mass for its self-gravity to overcome rigid body forces as it has a nearly round shape, meeting condition (b). Lastly, it is mentioned that 2010 GB174 is a detached object, which implies that it has cleared the neighbourhood around its orbit, fulfilling condition (c). Therefore, according to the given definition, 2010 GB174 could be considered a planet. However, it is also mentioned that it is possibly a dwarf planet, which might suggest that it doesn't fully meet all the criteria of a planet.</td>\n",
       "    </tr>\n",
       "  </tbody>\n",
       "</table>\n"
      ],
      "text/plain": [
       "<pandas.io.formats.style.Styler at 0x151943890>"
      ]
     },
     "metadata": {},
     "output_type": "display_data"
    }
   ],
   "source": [
    "display_errors(iau_2006_8_24_planet, iau_2006_8_24_planet_results)"
   ]
  },
  {
   "cell_type": "markdown",
   "metadata": {},
   "source": [
    "## Experimental results data dump"
   ]
  },
  {
   "cell_type": "code",
   "execution_count": 21,
   "metadata": {},
   "outputs": [],
   "source": [
    "EXPERIMENTS_FILENAME = \"planet_experiment.json\"\n",
    "\n",
    "experiments = [\n",
    "    {\n",
    "        \"classification_procedure\": {\n",
    "            \"id\": cp.id,\n",
    "            \"term\": cp.term,\n",
    "            \"definition\": cp.definition,\n",
    "            \"reference\": cp.reference,\n",
    "            \"model_name\": cp.model_name,\n",
    "            \"temperature\": cp.temperature\n",
    "        },\n",
    "        \"results\": results.to_dict(\"records\")\n",
    "    } for cp, results in [\n",
    "        (oed_planet, oed_planet_results),\n",
    "        (iau_2006_8_16_planet, iau_2006_8_16_planet_results),\n",
    "        (iau_2006_8_24_planet, iau_2006_8_24_planet_results)\n",
    "    ]\n",
    "]\n",
    "\n",
    "json.dump(experiments, open(EXPERIMENTS_FILENAME, 'w+'))"
   ]
  }
 ],
 "metadata": {
  "kernelspec": {
   "display_name": "conceptual-engineering-using-llms",
   "language": "python",
   "name": "python3"
  },
  "language_info": {
   "codemirror_mode": {
    "name": "ipython",
    "version": 3
   },
   "file_extension": ".py",
   "mimetype": "text/x-python",
   "name": "python",
   "nbconvert_exporter": "python",
   "pygments_lexer": "ipython3",
   "version": "3.11.4"
  },
  "orig_nbformat": 4
 },
 "nbformat": 4,
 "nbformat_minor": 2
}
